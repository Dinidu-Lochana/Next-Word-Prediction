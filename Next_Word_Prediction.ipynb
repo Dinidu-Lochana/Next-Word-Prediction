{
  "nbformat": 4,
  "nbformat_minor": 0,
  "metadata": {
    "colab": {
      "provenance": [],
      "gpuType": "T4"
    },
    "kernelspec": {
      "name": "python3",
      "display_name": "Python 3"
    },
    "language_info": {
      "name": "python"
    },
    "accelerator": "GPU"
  },
  "cells": [
    {
      "cell_type": "code",
      "execution_count": 5,
      "metadata": {
        "id": "lzU5ph8VfCOK"
      },
      "outputs": [],
      "source": [
        "import numpy as np\n",
        "import tensorflow as tf"
      ]
    },
    {
      "cell_type": "code",
      "source": [
        "with open(\"/content/Evo_IX.txt\", 'r', encoding='utf-8') as file:\n",
        "    evo_ix = file.read()"
      ],
      "metadata": {
        "id": "LA9Kp8kQnKX5"
      },
      "execution_count": 16,
      "outputs": []
    },
    {
      "cell_type": "code",
      "source": [
        "evo_ix"
      ],
      "metadata": {
        "colab": {
          "base_uri": "https://localhost:8080/",
          "height": 122
        },
        "id": "KpT-vjS3r09M",
        "outputId": "23cf0f55-0275-4c86-8bf4-d13683c89ed7"
      },
      "execution_count": 17,
      "outputs": [
        {
          "output_type": "execute_result",
          "data": {
            "text/plain": [
              "\"The Mitsubishi Lancer Evolution IX, often referred to as the Evo 9, was the ninth iteration of Mitsubishi’s legendary performance car. The Lancer Evolution IX was produced between 2005 and 2007, and it stands as one of the most iconic cars in the performance sedan segment. Known for its motorsport pedigree and impressive engineering, the Evo IX became a favorite among car enthusiasts, particularly for its rallying heritage and track capabilities.\\n\\nMitsubishi’s Lancer Evolution series, which started in 1992, was developed with one goal in mind: to build a high-performance car that could excel in motorsports while offering street-going practicality. The Evo IX, like its predecessors, was designed as a performance sedan with a turbocharged engine, all-wheel drive, and exceptional handling characteristics.\\n\\nThe Evo IX was powered by a 2.0-liter turbocharged inline-four engine, known as the 4G63T, which had been refined over several iterations. This engine was capable of producing 276 horsepower, which was more than enough to propel the car to impressive speeds, especially considering the car's relatively lightweight construction. The engine's power was delivered to all four wheels via Mitsubishi's advanced all-wheel-drive system, which contributed to the Evo IX’s superior handling and cornering ability.\\n\\nOne of the most notable features of the Evo IX was its sophisticated suspension system. The car was equipped with a multi-link rear suspension and a fully independent front suspension, both of which were tuned for maximum performance. This setup allowed the Evo IX to offer precise handling, exceptional stability, and a level of grip that few cars could match at the time.\\n\\nIn terms of performance, the Evo IX was a true track machine. The car was capable of accelerating from 0 to 60 mph in just over 5 seconds, thanks to its light weight and powerful engine. The Evo IX also had a top speed of around 155 mph, making it one of the fastest cars in its class. Its handling and braking performance were equally impressive, with the car being able to tackle tight corners and high-speed straights with ease.\\n\\nAnother important aspect of the Evo IX was its aerodynamics. Mitsubishi engineers carefully designed the car’s body to reduce drag and improve stability at high speeds. The Evo IX featured a large rear spoiler, which not only added to its aggressive appearance but also provided downforce to improve traction at high speeds. The car also had a front splitter and side skirts, both of which helped to improve airflow around the vehicle and enhance its overall performance.\\n\\nThe interior of the Evo IX was functional and straightforward, with a focus on performance. The car featured bucket-style racing seats, a minimalistic dashboard, and a simple yet effective layout of controls. While the interior was not as luxurious as some of its competitors, it was designed with the driver in mind, ensuring that all controls were easily accessible and that the driver could focus on the road ahead.\\n\\nThe Evo IX also featured a number of advanced technological features that were ahead of its time. The car was equipped with Mitsubishi’s AYC (Active Yaw Control) system, which helped to improve cornering by distributing power between the rear wheels. This system was designed to mimic the effects of a limited-slip differential, ensuring that the Evo IX could corner with exceptional precision and stability.\\n\\nIn addition to the AYC system, the Evo IX was also equipped with the ACD (Active Center Differential), which helped to manage power distribution between the front and rear axles. This system allowed the car to adjust its handling characteristics based on driving conditions, giving the driver more control over the car in a variety of situations.\\n\\nThe Evo IX was also equipped with a number of safety features, including front and side airbags, anti-lock brakes (ABS), and electronic stability control (ESC). These features helped to ensure that the car remained safe and stable, even during aggressive driving or in challenging conditions.\\n\\nOne of the most remarkable things about the Evo IX was its ability to blend everyday usability with extreme performance. While the car was undoubtedly built for the track, it was still practical enough to be driven on the street. The Evo IX offered a relatively comfortable ride for a performance car, and it had a surprisingly spacious interior for a car of its size. This combination of performance and practicality made the Evo IX a unique offering in the performance car market.\\n\\nIn terms of design, the Evo IX retained much of the aggressive styling that was a hallmark of the Evolution series. The car featured sharp, angular lines, a wide stance, and bold features that gave it a muscular and performance-oriented look. The front end of the car was dominated by a large, angular grille and aggressive air intakes, while the rear featured a prominent rear wing and diffuser.\\n\\nThe Evo IX’s design was not just for show; it was carefully crafted to improve the car’s performance. The body was made from lightweight materials, including aluminum and high-strength steel, which helped to reduce weight and improve the car’s overall handling. The car’s low center of gravity also contributed to its impressive stability and cornering ability.\\n\\nDespite its remarkable performance, the Evo IX was not without its drawbacks. The car’s ride was firm, and the suspension was tuned for track performance, meaning that it could be uncomfortable on rough roads or in everyday driving situations. Additionally, the interior, while functional, lacked the luxury features found in some of its competitors, and the car’s rear seats were cramped, making it less ideal for carrying passengers on long trips.\\n\\nAnother issue with the Evo IX was its limited availability outside of Japan. While the car was sold in several countries, including the United States, its availability was limited, and it was not as widely accessible as other performance cars. This rarity only added to the car’s appeal, as it became a sought-after vehicle for collectors and performance car enthusiasts alike.\\n\\nDespite these drawbacks, the Evo IX remains a beloved model among car enthusiasts, thanks to its incredible performance, rally-inspired heritage, and distinctive styling. The car was often compared to its rival, the Subaru Impreza WRX STI, with which it shared many similarities in terms of performance and design. Both cars were designed with similar goals in mind, offering high-performance capabilities, advanced all-wheel-drive systems, and aggressive styling. However, the Evo IX’s precise handling and track-focused engineering gave it an edge in the eyes of many enthusiasts.\\n\\nThe Evo IX’s legacy lives on today, with many enthusiasts still keeping their cars in pristine condition and modifying them for even greater performance. The car has become an icon in the world of motorsports and performance cars, and it continues to inspire admiration for its engineering, handling, and driving experience. While Mitsubishi no longer produces the Evolution series, the Evo IX remains a testament to the brand’s commitment to high-performance engineering and motorsport excellence.\\n\\nThe Evo IX was also a popular choice in the tuning community, with many owners modifying their cars to further enhance their performance. Popular modifications included upgraded turbochargers, intercoolers, suspension components, and exhaust systems. These upgrades helped to push the Evo IX to even greater levels of performance, allowing it to rival some of the fastest cars on the road.\\n\\nIn motorsport, the Evo IX continued to build on the legacy of its predecessors, competing in various rally and motorsport events around the world. The car’s performance capabilities made it a formidable competitor, and it remained a dominant force in the world of rally racing during its production run.\\n\\nDespite its relatively short production life, the Lancer Evolution IX remains a cherished model in the history of performance cars. Its combination of raw power, advanced engineering, and motorsport pedigree made it one of the most capable and exciting cars of its time. Even today, the Evo IX is regarded as one of the best cars ever built by Mitsubishi, and it continues to capture the imagination of automotive enthusiasts around the world.\""
            ],
            "application/vnd.google.colaboratory.intrinsic+json": {
              "type": "string"
            }
          },
          "metadata": {},
          "execution_count": 17
        }
      ]
    },
    {
      "cell_type": "code",
      "source": [
        "tokenizer = tf.keras.preprocessing.text.Tokenizer()"
      ],
      "metadata": {
        "id": "RVrZZ3hhsWRj"
      },
      "execution_count": 18,
      "outputs": []
    },
    {
      "cell_type": "code",
      "source": [
        "tokenizer.fit_on_texts([evo_ix])"
      ],
      "metadata": {
        "id": "NL78sEgjsioD"
      },
      "execution_count": 19,
      "outputs": []
    },
    {
      "cell_type": "code",
      "source": [
        "tokenizer.get_config()"
      ],
      "metadata": {
        "colab": {
          "base_uri": "https://localhost:8080/"
        },
        "id": "R125j8hLsm49",
        "outputId": "1d564f0d-b61d-4b46-bc8c-7652df2053ff"
      },
      "execution_count": 20,
      "outputs": [
        {
          "output_type": "execute_result",
          "data": {
            "text/plain": [
              "{'num_words': None,\n",
              " 'filters': '!\"#$%&()*+,-./:;<=>?@[\\\\]^_`{|}~\\t\\n',\n",
              " 'lower': True,\n",
              " 'split': ' ',\n",
              " 'char_level': False,\n",
              " 'oov_token': None,\n",
              " 'document_count': 1,\n",
              " 'word_counts': '{\"the\": 108, \"mitsubishi\": 4, \"lancer\": 4, \"evolution\": 6, \"ix\": 29, \"often\": 2, \"referred\": 1, \"to\": 37, \"as\": 10, \"evo\": 31, \"9\": 1, \"was\": 37, \"ninth\": 1, \"iteration\": 1, \"of\": 44, \"mitsubishi\\\\u2019s\": 3, \"legendary\": 1, \"performance\": 29, \"car\": 24, \"produced\": 1, \"between\": 3, \"2005\": 1, \"and\": 50, \"2007\": 1, \"it\": 19, \"stands\": 1, \"one\": 7, \"most\": 4, \"iconic\": 1, \"cars\": 12, \"in\": 26, \"sedan\": 2, \"segment\": 1, \"known\": 2, \"for\": 12, \"its\": 29, \"motorsport\": 5, \"pedigree\": 2, \"impressive\": 4, \"engineering\": 5, \"became\": 2, \"a\": 36, \"favorite\": 1, \"among\": 2, \"enthusiasts\": 6, \"particularly\": 1, \"rallying\": 1, \"heritage\": 2, \"track\": 5, \"capabilities\": 3, \"series\": 3, \"which\": 11, \"started\": 1, \"1992\": 1, \"developed\": 1, \"with\": 17, \"goal\": 1, \"mind\": 3, \"build\": 2, \"high\": 7, \"that\": 10, \"could\": 5, \"excel\": 1, \"motorsports\": 2, \"while\": 7, \"offering\": 3, \"street\": 2, \"going\": 1, \"practicality\": 2, \"like\": 1, \"predecessors\": 2, \"designed\": 5, \"turbocharged\": 2, \"engine\": 4, \"all\": 5, \"wheel\": 3, \"drive\": 3, \"exceptional\": 3, \"handling\": 8, \"characteristics\": 2, \"powered\": 1, \"by\": 4, \"2\": 1, \"0\": 2, \"liter\": 1, \"inline\": 1, \"four\": 2, \"4g63t\": 1, \"had\": 4, \"been\": 1, \"refined\": 1, \"over\": 3, \"several\": 2, \"iterations\": 1, \"this\": 6, \"capable\": 3, \"producing\": 1, \"276\": 1, \"horsepower\": 1, \"more\": 2, \"than\": 1, \"enough\": 2, \"propel\": 1, \"speeds\": 3, \"especially\": 1, \"considering\": 1, \"car\\'s\": 1, \"relatively\": 3, \"lightweight\": 2, \"construction\": 1, \"engine\\'s\": 1, \"power\": 4, \"delivered\": 1, \"wheels\": 2, \"via\": 1, \"mitsubishi\\'s\": 1, \"advanced\": 4, \"system\": 6, \"contributed\": 2, \"ix\\\\u2019s\": 4, \"superior\": 1, \"cornering\": 3, \"ability\": 3, \"notable\": 1, \"features\": 6, \"sophisticated\": 1, \"suspension\": 5, \"equipped\": 4, \"multi\": 1, \"link\": 1, \"rear\": 7, \"fully\": 1, \"independent\": 1, \"front\": 5, \"both\": 3, \"were\": 6, \"tuned\": 2, \"maximum\": 1, \"setup\": 1, \"allowed\": 2, \"offer\": 1, \"precise\": 2, \"stability\": 5, \"level\": 1, \"grip\": 1, \"few\": 1, \"match\": 1, \"at\": 3, \"time\": 3, \"terms\": 3, \"true\": 1, \"machine\": 1, \"accelerating\": 1, \"from\": 2, \"60\": 1, \"mph\": 2, \"just\": 2, \"5\": 1, \"seconds\": 1, \"thanks\": 2, \"light\": 1, \"weight\": 2, \"powerful\": 1, \"also\": 8, \"top\": 1, \"speed\": 2, \"around\": 4, \"155\": 1, \"making\": 2, \"fastest\": 2, \"class\": 1, \"braking\": 1, \"equally\": 1, \"being\": 1, \"able\": 1, \"tackle\": 1, \"tight\": 1, \"corners\": 1, \"straights\": 1, \"ease\": 1, \"another\": 2, \"important\": 1, \"aspect\": 1, \"aerodynamics\": 1, \"engineers\": 1, \"carefully\": 2, \"car\\\\u2019s\": 8, \"body\": 2, \"reduce\": 2, \"drag\": 1, \"improve\": 6, \"featured\": 5, \"large\": 2, \"spoiler\": 1, \"not\": 5, \"only\": 2, \"added\": 2, \"aggressive\": 5, \"appearance\": 1, \"but\": 1, \"provided\": 1, \"downforce\": 1, \"traction\": 1, \"splitter\": 1, \"side\": 2, \"skirts\": 1, \"helped\": 6, \"airflow\": 1, \"vehicle\": 2, \"enhance\": 2, \"overall\": 2, \"interior\": 4, \"functional\": 2, \"straightforward\": 1, \"focus\": 2, \"on\": 9, \"bucket\": 1, \"style\": 1, \"racing\": 2, \"seats\": 2, \"minimalistic\": 1, \"dashboard\": 1, \"simple\": 1, \"yet\": 1, \"effective\": 1, \"layout\": 1, \"controls\": 2, \"luxurious\": 1, \"some\": 3, \"competitors\": 2, \"driver\": 3, \"ensuring\": 2, \"easily\": 1, \"accessible\": 2, \"road\": 2, \"ahead\": 2, \"number\": 2, \"technological\": 1, \"ayc\": 2, \"active\": 2, \"yaw\": 1, \"control\": 3, \"distributing\": 1, \"mimic\": 1, \"effects\": 1, \"limited\": 3, \"slip\": 1, \"differential\": 2, \"corner\": 1, \"precision\": 1, \"addition\": 1, \"acd\": 1, \"center\": 2, \"manage\": 1, \"distribution\": 1, \"axles\": 1, \"adjust\": 1, \"based\": 1, \"driving\": 4, \"conditions\": 2, \"giving\": 1, \"variety\": 1, \"situations\": 2, \"safety\": 1, \"including\": 3, \"airbags\": 1, \"anti\": 1, \"lock\": 1, \"brakes\": 1, \"abs\": 1, \"electronic\": 1, \"esc\": 1, \"these\": 3, \"ensure\": 1, \"remained\": 2, \"safe\": 1, \"stable\": 1, \"even\": 4, \"during\": 2, \"or\": 2, \"challenging\": 1, \"remarkable\": 2, \"things\": 1, \"about\": 1, \"blend\": 1, \"everyday\": 2, \"usability\": 1, \"extreme\": 1, \"undoubtedly\": 1, \"built\": 2, \"still\": 2, \"practical\": 1, \"be\": 2, \"driven\": 1, \"offered\": 1, \"comfortable\": 1, \"ride\": 2, \"surprisingly\": 1, \"spacious\": 1, \"size\": 1, \"combination\": 2, \"made\": 4, \"unique\": 1, \"market\": 1, \"design\": 3, \"retained\": 1, \"much\": 1, \"styling\": 3, \"hallmark\": 1, \"sharp\": 1, \"angular\": 2, \"lines\": 1, \"wide\": 1, \"stance\": 1, \"bold\": 1, \"gave\": 2, \"muscular\": 1, \"oriented\": 1, \"look\": 1, \"end\": 1, \"dominated\": 1, \"grille\": 1, \"air\": 1, \"intakes\": 1, \"prominent\": 1, \"wing\": 1, \"diffuser\": 1, \"show\": 1, \"crafted\": 1, \"materials\": 1, \"aluminum\": 1, \"strength\": 1, \"steel\": 1, \"low\": 1, \"gravity\": 1, \"despite\": 3, \"without\": 1, \"drawbacks\": 2, \"firm\": 1, \"meaning\": 1, \"uncomfortable\": 1, \"rough\": 1, \"roads\": 1, \"additionally\": 1, \"lacked\": 1, \"luxury\": 1, \"found\": 1, \"cramped\": 1, \"less\": 1, \"ideal\": 1, \"carrying\": 1, \"passengers\": 1, \"long\": 1, \"trips\": 1, \"issue\": 1, \"availability\": 2, \"outside\": 1, \"japan\": 1, \"sold\": 1, \"countries\": 1, \"united\": 1, \"states\": 1, \"widely\": 1, \"other\": 1, \"rarity\": 1, \"appeal\": 1, \"sought\": 1, \"after\": 1, \"collectors\": 1, \"alike\": 1, \"remains\": 3, \"beloved\": 1, \"model\": 2, \"incredible\": 1, \"rally\": 3, \"inspired\": 1, \"distinctive\": 1, \"compared\": 1, \"rival\": 2, \"subaru\": 1, \"impreza\": 1, \"wrx\": 1, \"sti\": 1, \"shared\": 1, \"many\": 4, \"similarities\": 1, \"similar\": 1, \"goals\": 1, \"systems\": 2, \"however\": 1, \"focused\": 1, \"an\": 2, \"edge\": 1, \"eyes\": 1, \"legacy\": 2, \"lives\": 1, \"today\": 2, \"keeping\": 1, \"their\": 3, \"pristine\": 1, \"condition\": 1, \"modifying\": 2, \"them\": 1, \"greater\": 2, \"has\": 1, \"become\": 1, \"icon\": 1, \"world\": 4, \"continues\": 2, \"inspire\": 1, \"admiration\": 1, \"experience\": 1, \"no\": 1, \"longer\": 1, \"produces\": 1, \"testament\": 1, \"brand\\\\u2019s\": 1, \"commitment\": 1, \"excellence\": 1, \"popular\": 2, \"choice\": 1, \"tuning\": 1, \"community\": 1, \"owners\": 1, \"further\": 1, \"modifications\": 1, \"included\": 1, \"upgraded\": 1, \"turbochargers\": 1, \"intercoolers\": 1, \"components\": 1, \"exhaust\": 1, \"upgrades\": 1, \"push\": 1, \"levels\": 1, \"allowing\": 1, \"continued\": 1, \"competing\": 1, \"various\": 1, \"events\": 1, \"formidable\": 1, \"competitor\": 1, \"dominant\": 1, \"force\": 1, \"production\": 2, \"run\": 1, \"short\": 1, \"life\": 1, \"cherished\": 1, \"history\": 1, \"raw\": 1, \"exciting\": 1, \"is\": 1, \"regarded\": 1, \"best\": 1, \"ever\": 1, \"capture\": 1, \"imagination\": 1, \"automotive\": 1}',\n",
              " 'word_docs': '{\"side\": 1, \"splitter\": 1, \"commitment\": 1, \"usability\": 1, \"characteristics\": 1, \"steel\": 1, \"situations\": 1, \"helped\": 1, \"produces\": 1, \"1992\": 1, \"testament\": 1, \"competing\": 1, \"capable\": 1, \"motorsport\": 1, \"liter\": 1, \"capabilities\": 1, \"braking\": 1, \"mitsubishi\\'s\": 1, \"one\": 1, \"practical\": 1, \"match\": 1, \"being\": 1, \"advanced\": 1, \"no\": 1, \"aerodynamics\": 1, \"safe\": 1, \"precise\": 1, \"driven\": 1, \"light\": 1, \"electronic\": 1, \"condition\": 1, \"practicality\": 1, \"systems\": 1, \"air\": 1, \"aluminum\": 1, \"legendary\": 1, \"retained\": 1, \"often\": 1, \"body\": 1, \"stable\": 1, \"were\": 1, \"limited\": 1, \"distribution\": 1, \"accessible\": 1, \"producing\": 1, \"all\": 1, \"between\": 1, \"superior\": 1, \"easily\": 1, \"street\": 1, \"competitor\": 1, \"undoubtedly\": 1, \"speeds\": 1, \"longer\": 1, \"gravity\": 1, \"true\": 1, \"rally\": 1, \"especially\": 1, \"provided\": 1, \"enough\": 1, \"segment\": 1, \"their\": 1, \"system\": 1, \"events\": 1, \"raw\": 1, \"rough\": 1, \"simple\": 1, \"setup\": 1, \"as\": 1, \"driver\": 1, \"other\": 1, \"delivered\": 1, \"during\": 1, \"more\": 1, \"experience\": 1, \"precision\": 1, \"blend\": 1, \"rear\": 1, \"impressive\": 1, \"relatively\": 1, \"straights\": 1, \"choice\": 1, \"weight\": 1, \"propel\": 1, \"improve\": 1, \"maximum\": 1, \"ix\": 1, \"united\": 1, \"built\": 1, \"on\": 1, \"in\": 1, \"uncomfortable\": 1, \"added\": 1, \"similar\": 1, \"remained\": 1, \"high\": 1, \"ride\": 1, \"oriented\": 1, \"number\": 1, \"features\": 1, \"styling\": 1, \"additionally\": 1, \"was\": 1, \"lines\": 1, \"controls\": 1, \"engineers\": 1, \"without\": 1, \"of\": 1, \"exceptional\": 1, \"or\": 1, \"bucket\": 1, \"effective\": 1, \"however\": 1, \"model\": 1, \"mitsubishi\\\\u2019s\": 1, \"multi\": 1, \"for\": 1, \"formidable\": 1, \"luxurious\": 1, \"mind\": 1, \"much\": 1, \"modifications\": 1, \"differential\": 1, \"style\": 1, \"esc\": 1, \"active\": 1, \"grille\": 1, \"many\": 1, \"terms\": 1, \"appearance\": 1, \"stability\": 1, \"stance\": 1, \"end\": 1, \"road\": 1, \"only\": 1, \"drawbacks\": 1, \"brakes\": 1, \"issue\": 1, \"designed\": 1, \"favorite\": 1, \"angular\": 1, \"still\": 1, \"spacious\": 1, \"iteration\": 1, \"at\": 1, \"refined\": 1, \"made\": 1, \"produced\": 1, \"aggressive\": 1, \"levels\": 1, \"performance\": 1, \"wrx\": 1, \"cars\": 1, \"conditions\": 1, \"fully\": 1, \"ability\": 1, \"another\": 1, \"referred\": 1, \"spoiler\": 1, \"track\": 1, \"allowed\": 1, \"seconds\": 1, \"exhaust\": 1, \"ix\\\\u2019s\": 1, \"design\": 1, \"mimic\": 1, \"center\": 1, \"stands\": 1, \"155\": 1, \"anti\": 1, \"dashboard\": 1, \"also\": 1, \"sophisticated\": 1, \"acd\": 1, \"production\": 1, \"heritage\": 1, \"became\": 1, \"history\": 1, \"reduce\": 1, \"crafted\": 1, \"functional\": 1, \"mitsubishi\": 1, \"corners\": 1, \"trips\": 1, \"variety\": 1, \"low\": 1, \"edge\": 1, \"layout\": 1, \"ensuring\": 1, \"luxury\": 1, \"bold\": 1, \"strength\": 1, \"intakes\": 1, \"most\": 1, \"excellence\": 1, \"lightweight\": 1, \"japan\": 1, \"cherished\": 1, \"among\": 1, \"manage\": 1, \"power\": 1, \"modifying\": 1, \"subaru\": 1, \"tuned\": 1, \"5\": 1, \"everyday\": 1, \"turbocharged\": 1, \"ayc\": 1, \"offering\": 1, \"airflow\": 1, \"world\": 1, \"turbochargers\": 1, \"look\": 1, \"tackle\": 1, \"this\": 1, \"corner\": 1, \"sedan\": 1, \"independent\": 1, \"icon\": 1, \"yet\": 1, \"overall\": 1, \"materials\": 1, \"been\": 1, \"horsepower\": 1, \"via\": 1, \"but\": 1, \"traction\": 1, \"alike\": 1, \"its\": 1, \"few\": 1, \"developed\": 1, \"sti\": 1, \"top\": 1, \"passengers\": 1, \"powerful\": 1, \"popular\": 1, \"eyes\": 1, \"imagination\": 1, \"considering\": 1, \"run\": 1, \"legacy\": 1, \"thanks\": 1, \"wide\": 1, \"it\": 1, \"rarity\": 1, \"from\": 1, \"sold\": 1, \"important\": 1, \"extreme\": 1, \"challenging\": 1, \"interior\": 1, \"compared\": 1, \"continues\": 1, \"evolution\": 1, \"with\": 1, \"today\": 1, \"beloved\": 1, \"large\": 1, \"accelerating\": 1, \"0\": 1, \"allowing\": 1, \"impreza\": 1, \"which\": 1, \"hallmark\": 1, \"focused\": 1, \"surprisingly\": 1, \"lives\": 1, \"construction\": 1, \"owners\": 1, \"has\": 1, \"airbags\": 1, \"by\": 1, \"equipped\": 1, \"able\": 1, \"racing\": 1, \"mph\": 1, \"enhance\": 1, \"sought\": 1, \"and\": 1, \"ideal\": 1, \"shared\": 1, \"ensure\": 1, \"widely\": 1, \"greater\": 1, \"particularly\": 1, \"be\": 1, \"best\": 1, \"is\": 1, \"yaw\": 1, \"2005\": 1, \"skirts\": 1, \"engineering\": 1, \"inline\": 1, \"competitors\": 1, \"excel\": 1, \"engine\": 1, \"carrying\": 1, \"2007\": 1, \"exciting\": 1, \"series\": 1, \"wheel\": 1, \"push\": 1, \"lancer\": 1, \"found\": 1, \"enthusiasts\": 1, \"prominent\": 1, \"life\": 1, \"iconic\": 1, \"including\": 1, \"collectors\": 1, \"force\": 1, \"four\": 1, \"going\": 1, \"ninth\": 1, \"focus\": 1, \"unique\": 1, \"than\": 1, \"despite\": 1, \"9\": 1, \"ease\": 1, \"effects\": 1, \"rallying\": 1, \"appeal\": 1, \"motorsports\": 1, \"various\": 1, \"less\": 1, \"known\": 1, \"dominant\": 1, \"4g63t\": 1, \"downforce\": 1, \"to\": 1, \"drive\": 1, \"notable\": 1, \"firm\": 1, \"speed\": 1, \"link\": 1, \"class\": 1, \"276\": 1, \"states\": 1, \"predecessors\": 1, \"muscular\": 1, \"about\": 1, \"some\": 1, \"diffuser\": 1, \"handling\": 1, \"not\": 1, \"goal\": 1, \"car\\\\u2019s\": 1, \"tight\": 1, \"based\": 1, \"like\": 1, \"cramped\": 1, \"keeping\": 1, \"abs\": 1, \"iterations\": 1, \"community\": 1, \"that\": 1, \"control\": 1, \"market\": 1, \"slip\": 1, \"making\": 1, \"gave\": 1, \"straightforward\": 1, \"dominated\": 1, \"comfortable\": 1, \"further\": 1, \"suspension\": 1, \"pristine\": 1, \"brand\\\\u2019s\": 1, \"tuning\": 1, \"wing\": 1, \"cornering\": 1, \"distinctive\": 1, \"distributing\": 1, \"regarded\": 1, \"a\": 1, \"automotive\": 1, \"time\": 1, \"featured\": 1, \"outside\": 1, \"started\": 1, \"several\": 1, \"front\": 1, \"short\": 1, \"technological\": 1, \"even\": 1, \"lock\": 1, \"just\": 1, \"inspire\": 1, \"roads\": 1, \"availability\": 1, \"seats\": 1, \"long\": 1, \"level\": 1, \"upgrades\": 1, \"similarities\": 1, \"while\": 1, \"these\": 1, \"60\": 1, \"show\": 1, \"upgraded\": 1, \"admiration\": 1, \"could\": 1, \"an\": 1, \"both\": 1, \"fastest\": 1, \"machine\": 1, \"remains\": 1, \"included\": 1, \"lacked\": 1, \"offered\": 1, \"things\": 1, \"continued\": 1, \"giving\": 1, \"build\": 1, \"equally\": 1, \"addition\": 1, \"countries\": 1, \"after\": 1, \"adjust\": 1, \"offer\": 1, \"components\": 1, \"combination\": 1, \"the\": 1, \"safety\": 1, \"intercoolers\": 1, \"evo\": 1, \"rival\": 1, \"ahead\": 1, \"drag\": 1, \"driving\": 1, \"pedigree\": 1, \"powered\": 1, \"meaning\": 1, \"become\": 1, \"car\\'s\": 1, \"contributed\": 1, \"grip\": 1, \"carefully\": 1, \"inspired\": 1, \"around\": 1, \"aspect\": 1, \"goals\": 1, \"size\": 1, \"wheels\": 1, \"2\": 1, \"remarkable\": 1, \"vehicle\": 1, \"over\": 1, \"had\": 1, \"sharp\": 1, \"engine\\'s\": 1, \"incredible\": 1, \"car\": 1, \"axles\": 1, \"them\": 1, \"capture\": 1, \"ever\": 1, \"minimalistic\": 1}',\n",
              " 'index_docs': '{\"137\": 1, \"270\": 1, \"420\": 1, \"316\": 1, \"110\": 1, \"352\": 1, \"157\": 1, \"35\": 1, \"417\": 1, \"198\": 1, \"418\": 1, \"439\": 1, \"76\": 1, \"36\": 1, \"206\": 1, \"68\": 1, \"250\": 1, \"224\": 1, \"24\": 1, \"319\": 1, \"238\": 1, \"252\": 1, \"56\": 1, \"415\": 1, \"261\": 1, \"310\": 1, \"121\": 1, \"320\": 1, \"245\": 1, \"307\": 1, \"407\": 1, \"107\": 1, \"174\": 1, \"342\": 1, \"350\": 1, \"187\": 1, \"328\": 1, \"97\": 1, \"132\": 1, \"311\": 1, \"33\": 1, \"88\": 1, \"295\": 1, \"148\": 1, \"212\": 1, \"41\": 1, \"67\": 1, \"225\": 1, \"283\": 1, \"106\": 1, \"443\": 1, \"318\": 1, \"77\": 1, \"416\": 1, \"354\": 1, \"239\": 1, \"95\": 1, \"217\": 1, \"267\": 1, \"115\": 1, \"193\": 1, \"96\": 1, \"31\": 1, \"441\": 1, \"451\": 1, \"359\": 1, \"278\": 1, \"233\": 1, \"18\": 1, \"86\": 1, \"380\": 1, \"222\": 1, \"159\": 1, \"114\": 1, \"414\": 1, \"291\": 1, \"315\": 1, \"27\": 1, \"51\": 1, \"78\": 1, \"257\": 1, \"422\": 1, \"126\": 1, \"216\": 1, \"34\": 1, \"232\": 1, \"8\": 1, \"377\": 1, \"163\": 1, \"20\": 1, \"11\": 1, \"358\": 1, \"136\": 1, \"398\": 1, \"158\": 1, \"25\": 1, \"166\": 1, \"337\": 1, \"151\": 1, \"32\": 1, \"92\": 1, \"361\": 1, \"5\": 1, \"332\": 1, \"145\": 1, \"262\": 1, \"355\": 1, \"3\": 1, \"74\": 1, \"160\": 1, \"274\": 1, \"280\": 1, \"400\": 1, \"172\": 1, \"66\": 1, \"228\": 1, \"16\": 1, \"442\": 1, \"282\": 1, \"70\": 1, \"329\": 1, \"427\": 1, \"154\": 1, \"275\": 1, \"308\": 1, \"153\": 1, \"341\": 1, \"64\": 1, \"84\": 1, \"265\": 1, \"44\": 1, \"334\": 1, \"339\": 1, \"149\": 1, \"135\": 1, \"170\": 1, \"305\": 1, \"372\": 1, \"40\": 1, \"194\": 1, \"168\": 1, \"164\": 1, \"324\": 1, \"186\": 1, \"82\": 1, \"210\": 1, \"63\": 1, \"188\": 1, \"47\": 1, \"436\": 1, \"9\": 1, \"394\": 1, \"15\": 1, \"156\": 1, \"230\": 1, \"80\": 1, \"130\": 1, \"183\": 1, \"264\": 1, \"38\": 1, \"120\": 1, \"244\": 1, \"433\": 1, \"57\": 1, \"91\": 1, \"287\": 1, \"155\": 1, \"191\": 1, \"248\": 1, \"303\": 1, \"277\": 1, \"22\": 1, \"227\": 1, \"293\": 1, \"182\": 1, \"103\": 1, \"101\": 1, \"450\": 1, \"133\": 1, \"348\": 1, \"141\": 1, \"48\": 1, \"256\": 1, \"371\": 1, \"300\": 1, \"353\": 1, \"402\": 1, \"281\": 1, \"147\": 1, \"363\": 1, \"335\": 1, \"351\": 1, \"343\": 1, \"50\": 1, \"421\": 1, \"116\": 1, \"374\": 1, \"449\": 1, \"102\": 1, \"294\": 1, \"55\": 1, \"178\": 1, \"392\": 1, \"119\": 1, \"243\": 1, \"162\": 1, \"109\": 1, \"152\": 1, \"71\": 1, \"272\": 1, \"65\": 1, \"430\": 1, \"338\": 1, \"254\": 1, \"30\": 1, \"290\": 1, \"98\": 1, \"231\": 1, \"411\": 1, \"279\": 1, \"140\": 1, \"349\": 1, \"209\": 1, \"214\": 1, \"223\": 1, \"266\": 1, \"269\": 1, \"386\": 1, \"10\": 1, \"237\": 1, \"199\": 1, \"395\": 1, \"247\": 1, \"369\": 1, \"246\": 1, \"181\": 1, \"403\": 1, \"458\": 1, \"218\": 1, \"446\": 1, \"176\": 1, \"125\": 1, \"333\": 1, \"13\": 1, \"381\": 1, \"122\": 1, \"375\": 1, \"259\": 1, \"317\": 1, \"312\": 1, \"60\": 1, \"391\": 1, \"180\": 1, \"28\": 1, \"14\": 1, \"177\": 1, \"387\": 1, \"134\": 1, \"241\": 1, \"111\": 1, \"437\": 1, \"393\": 1, \"17\": 1, \"330\": 1, \"401\": 1, \"323\": 1, \"404\": 1, \"220\": 1, \"425\": 1, \"409\": 1, \"302\": 1, \"53\": 1, \"58\": 1, \"253\": 1, \"143\": 1, \"123\": 1, \"139\": 1, \"383\": 1, \"2\": 1, \"367\": 1, \"396\": 1, \"309\": 1, \"379\": 1, \"179\": 1, \"195\": 1, \"165\": 1, \"455\": 1, \"453\": 1, \"285\": 1, \"189\": 1, \"271\": 1, \"37\": 1, \"207\": 1, \"146\": 1, \"201\": 1, \"52\": 1, \"368\": 1, \"190\": 1, \"452\": 1, \"69\": 1, \"72\": 1, \"435\": 1, \"49\": 1, \"364\": 1, \"29\": 1, \"344\": 1, \"448\": 1, \"192\": 1, \"89\": 1, \"385\": 1, \"445\": 1, \"112\": 1, \"202\": 1, \"185\": 1, \"142\": 1, \"326\": 1, \"215\": 1, \"93\": 1, \"184\": 1, \"258\": 1, \"288\": 1, \"196\": 1, \"382\": 1, \"105\": 1, \"440\": 1, \"366\": 1, \"99\": 1, \"444\": 1, \"208\": 1, \"268\": 1, \"4\": 1, \"73\": 1, \"226\": 1, \"356\": 1, \"127\": 1, \"229\": 1, \"249\": 1, \"213\": 1, \"378\": 1, \"108\": 1, \"336\": 1, \"314\": 1, \"85\": 1, \"346\": 1, \"21\": 1, \"46\": 1, \"200\": 1, \"23\": 1, \"255\": 1, \"298\": 1, \"203\": 1, \"365\": 1, \"405\": 1, \"306\": 1, \"211\": 1, \"424\": 1, \"19\": 1, \"87\": 1, \"327\": 1, \"289\": 1, \"128\": 1, \"169\": 1, \"273\": 1, \"340\": 1, \"322\": 1, \"426\": 1, \"42\": 1, \"406\": 1, \"419\": 1, \"423\": 1, \"345\": 1, \"79\": 1, \"390\": 1, \"286\": 1, \"454\": 1, \"6\": 1, \"459\": 1, \"83\": 1, \"45\": 1, \"373\": 1, \"197\": 1, \"113\": 1, \"43\": 1, \"447\": 1, \"284\": 1, \"62\": 1, \"304\": 1, \"124\": 1, \"412\": 1, \"360\": 1, \"171\": 1, \"144\": 1, \"370\": 1, \"235\": 1, \"434\": 1, \"397\": 1, \"26\": 1, \"90\": 1, \"242\": 1, \"347\": 1, \"429\": 1, \"413\": 1, \"39\": 1, \"175\": 1, \"81\": 1, \"129\": 1, \"240\": 1, \"94\": 1, \"428\": 1, \"362\": 1, \"321\": 1, \"313\": 1, \"438\": 1, \"299\": 1, \"104\": 1, \"251\": 1, \"292\": 1, \"376\": 1, \"384\": 1, \"297\": 1, \"234\": 1, \"432\": 1, \"167\": 1, \"1\": 1, \"301\": 1, \"431\": 1, \"7\": 1, \"173\": 1, \"150\": 1, \"263\": 1, \"61\": 1, \"100\": 1, \"204\": 1, \"357\": 1, \"410\": 1, \"219\": 1, \"118\": 1, \"236\": 1, \"131\": 1, \"389\": 1, \"59\": 1, \"260\": 1, \"399\": 1, \"325\": 1, \"117\": 1, \"205\": 1, \"161\": 1, \"138\": 1, \"75\": 1, \"54\": 1, \"331\": 1, \"221\": 1, \"388\": 1, \"12\": 1, \"296\": 1, \"408\": 1, \"457\": 1, \"456\": 1, \"276\": 1}',\n",
              " 'index_word': '{\"1\": \"the\", \"2\": \"and\", \"3\": \"of\", \"4\": \"to\", \"5\": \"was\", \"6\": \"a\", \"7\": \"evo\", \"8\": \"ix\", \"9\": \"performance\", \"10\": \"its\", \"11\": \"in\", \"12\": \"car\", \"13\": \"it\", \"14\": \"with\", \"15\": \"cars\", \"16\": \"for\", \"17\": \"which\", \"18\": \"as\", \"19\": \"that\", \"20\": \"on\", \"21\": \"handling\", \"22\": \"also\", \"23\": \"car\\\\u2019s\", \"24\": \"one\", \"25\": \"high\", \"26\": \"while\", \"27\": \"rear\", \"28\": \"evolution\", \"29\": \"enthusiasts\", \"30\": \"this\", \"31\": \"system\", \"32\": \"features\", \"33\": \"were\", \"34\": \"improve\", \"35\": \"helped\", \"36\": \"motorsport\", \"37\": \"engineering\", \"38\": \"track\", \"39\": \"could\", \"40\": \"designed\", \"41\": \"all\", \"42\": \"suspension\", \"43\": \"front\", \"44\": \"stability\", \"45\": \"featured\", \"46\": \"not\", \"47\": \"aggressive\", \"48\": \"mitsubishi\", \"49\": \"lancer\", \"50\": \"most\", \"51\": \"impressive\", \"52\": \"engine\", \"53\": \"by\", \"54\": \"had\", \"55\": \"power\", \"56\": \"advanced\", \"57\": \"ix\\\\u2019s\", \"58\": \"equipped\", \"59\": \"around\", \"60\": \"interior\", \"61\": \"driving\", \"62\": \"even\", \"63\": \"made\", \"64\": \"many\", \"65\": \"world\", \"66\": \"mitsubishi\\\\u2019s\", \"67\": \"between\", \"68\": \"capabilities\", \"69\": \"series\", \"70\": \"mind\", \"71\": \"offering\", \"72\": \"wheel\", \"73\": \"drive\", \"74\": \"exceptional\", \"75\": \"over\", \"76\": \"capable\", \"77\": \"speeds\", \"78\": \"relatively\", \"79\": \"cornering\", \"80\": \"ability\", \"81\": \"both\", \"82\": \"at\", \"83\": \"time\", \"84\": \"terms\", \"85\": \"some\", \"86\": \"driver\", \"87\": \"control\", \"88\": \"limited\", \"89\": \"including\", \"90\": \"these\", \"91\": \"design\", \"92\": \"styling\", \"93\": \"despite\", \"94\": \"remains\", \"95\": \"rally\", \"96\": \"their\", \"97\": \"often\", \"98\": \"sedan\", \"99\": \"known\", \"100\": \"pedigree\", \"101\": \"became\", \"102\": \"among\", \"103\": \"heritage\", \"104\": \"build\", \"105\": \"motorsports\", \"106\": \"street\", \"107\": \"practicality\", \"108\": \"predecessors\", \"109\": \"turbocharged\", \"110\": \"characteristics\", \"111\": \"0\", \"112\": \"four\", \"113\": \"several\", \"114\": \"more\", \"115\": \"enough\", \"116\": \"lightweight\", \"117\": \"wheels\", \"118\": \"contributed\", \"119\": \"tuned\", \"120\": \"allowed\", \"121\": \"precise\", \"122\": \"from\", \"123\": \"mph\", \"124\": \"just\", \"125\": \"thanks\", \"126\": \"weight\", \"127\": \"speed\", \"128\": \"making\", \"129\": \"fastest\", \"130\": \"another\", \"131\": \"carefully\", \"132\": \"body\", \"133\": \"reduce\", \"134\": \"large\", \"135\": \"only\", \"136\": \"added\", \"137\": \"side\", \"138\": \"vehicle\", \"139\": \"enhance\", \"140\": \"overall\", \"141\": \"functional\", \"142\": \"focus\", \"143\": \"racing\", \"144\": \"seats\", \"145\": \"controls\", \"146\": \"competitors\", \"147\": \"ensuring\", \"148\": \"accessible\", \"149\": \"road\", \"150\": \"ahead\", \"151\": \"number\", \"152\": \"ayc\", \"153\": \"active\", \"154\": \"differential\", \"155\": \"center\", \"156\": \"conditions\", \"157\": \"situations\", \"158\": \"remained\", \"159\": \"during\", \"160\": \"or\", \"161\": \"remarkable\", \"162\": \"everyday\", \"163\": \"built\", \"164\": \"still\", \"165\": \"be\", \"166\": \"ride\", \"167\": \"combination\", \"168\": \"angular\", \"169\": \"gave\", \"170\": \"drawbacks\", \"171\": \"availability\", \"172\": \"model\", \"173\": \"rival\", \"174\": \"systems\", \"175\": \"an\", \"176\": \"legacy\", \"177\": \"today\", \"178\": \"modifying\", \"179\": \"greater\", \"180\": \"continues\", \"181\": \"popular\", \"182\": \"production\", \"183\": \"referred\", \"184\": \"9\", \"185\": \"ninth\", \"186\": \"iteration\", \"187\": \"legendary\", \"188\": \"produced\", \"189\": \"2005\", \"190\": \"2007\", \"191\": \"stands\", \"192\": \"iconic\", \"193\": \"segment\", \"194\": \"favorite\", \"195\": \"particularly\", \"196\": \"rallying\", \"197\": \"started\", \"198\": \"1992\", \"199\": \"developed\", \"200\": \"goal\", \"201\": \"excel\", \"202\": \"going\", \"203\": \"like\", \"204\": \"powered\", \"205\": \"2\", \"206\": \"liter\", \"207\": \"inline\", \"208\": \"4g63t\", \"209\": \"been\", \"210\": \"refined\", \"211\": \"iterations\", \"212\": \"producing\", \"213\": \"276\", \"214\": \"horsepower\", \"215\": \"than\", \"216\": \"propel\", \"217\": \"especially\", \"218\": \"considering\", \"219\": \"car\\'s\", \"220\": \"construction\", \"221\": \"engine\\'s\", \"222\": \"delivered\", \"223\": \"via\", \"224\": \"mitsubishi\\'s\", \"225\": \"superior\", \"226\": \"notable\", \"227\": \"sophisticated\", \"228\": \"multi\", \"229\": \"link\", \"230\": \"fully\", \"231\": \"independent\", \"232\": \"maximum\", \"233\": \"setup\", \"234\": \"offer\", \"235\": \"level\", \"236\": \"grip\", \"237\": \"few\", \"238\": \"match\", \"239\": \"true\", \"240\": \"machine\", \"241\": \"accelerating\", \"242\": \"60\", \"243\": \"5\", \"244\": \"seconds\", \"245\": \"light\", \"246\": \"powerful\", \"247\": \"top\", \"248\": \"155\", \"249\": \"class\", \"250\": \"braking\", \"251\": \"equally\", \"252\": \"being\", \"253\": \"able\", \"254\": \"tackle\", \"255\": \"tight\", \"256\": \"corners\", \"257\": \"straights\", \"258\": \"ease\", \"259\": \"important\", \"260\": \"aspect\", \"261\": \"aerodynamics\", \"262\": \"engineers\", \"263\": \"drag\", \"264\": \"spoiler\", \"265\": \"appearance\", \"266\": \"but\", \"267\": \"provided\", \"268\": \"downforce\", \"269\": \"traction\", \"270\": \"splitter\", \"271\": \"skirts\", \"272\": \"airflow\", \"273\": \"straightforward\", \"274\": \"bucket\", \"275\": \"style\", \"276\": \"minimalistic\", \"277\": \"dashboard\", \"278\": \"simple\", \"279\": \"yet\", \"280\": \"effective\", \"281\": \"layout\", \"282\": \"luxurious\", \"283\": \"easily\", \"284\": \"technological\", \"285\": \"yaw\", \"286\": \"distributing\", \"287\": \"mimic\", \"288\": \"effects\", \"289\": \"slip\", \"290\": \"corner\", \"291\": \"precision\", \"292\": \"addition\", \"293\": \"acd\", \"294\": \"manage\", \"295\": \"distribution\", \"296\": \"axles\", \"297\": \"adjust\", \"298\": \"based\", \"299\": \"giving\", \"300\": \"variety\", \"301\": \"safety\", \"302\": \"airbags\", \"303\": \"anti\", \"304\": \"lock\", \"305\": \"brakes\", \"306\": \"abs\", \"307\": \"electronic\", \"308\": \"esc\", \"309\": \"ensure\", \"310\": \"safe\", \"311\": \"stable\", \"312\": \"challenging\", \"313\": \"things\", \"314\": \"about\", \"315\": \"blend\", \"316\": \"usability\", \"317\": \"extreme\", \"318\": \"undoubtedly\", \"319\": \"practical\", \"320\": \"driven\", \"321\": \"offered\", \"322\": \"comfortable\", \"323\": \"surprisingly\", \"324\": \"spacious\", \"325\": \"size\", \"326\": \"unique\", \"327\": \"market\", \"328\": \"retained\", \"329\": \"much\", \"330\": \"hallmark\", \"331\": \"sharp\", \"332\": \"lines\", \"333\": \"wide\", \"334\": \"stance\", \"335\": \"bold\", \"336\": \"muscular\", \"337\": \"oriented\", \"338\": \"look\", \"339\": \"end\", \"340\": \"dominated\", \"341\": \"grille\", \"342\": \"air\", \"343\": \"intakes\", \"344\": \"prominent\", \"345\": \"wing\", \"346\": \"diffuser\", \"347\": \"show\", \"348\": \"crafted\", \"349\": \"materials\", \"350\": \"aluminum\", \"351\": \"strength\", \"352\": \"steel\", \"353\": \"low\", \"354\": \"gravity\", \"355\": \"without\", \"356\": \"firm\", \"357\": \"meaning\", \"358\": \"uncomfortable\", \"359\": \"rough\", \"360\": \"roads\", \"361\": \"additionally\", \"362\": \"lacked\", \"363\": \"luxury\", \"364\": \"found\", \"365\": \"cramped\", \"366\": \"less\", \"367\": \"ideal\", \"368\": \"carrying\", \"369\": \"passengers\", \"370\": \"long\", \"371\": \"trips\", \"372\": \"issue\", \"373\": \"outside\", \"374\": \"japan\", \"375\": \"sold\", \"376\": \"countries\", \"377\": \"united\", \"378\": \"states\", \"379\": \"widely\", \"380\": \"other\", \"381\": \"rarity\", \"382\": \"appeal\", \"383\": \"sought\", \"384\": \"after\", \"385\": \"collectors\", \"386\": \"alike\", \"387\": \"beloved\", \"388\": \"incredible\", \"389\": \"inspired\", \"390\": \"distinctive\", \"391\": \"compared\", \"392\": \"subaru\", \"393\": \"impreza\", \"394\": \"wrx\", \"395\": \"sti\", \"396\": \"shared\", \"397\": \"similarities\", \"398\": \"similar\", \"399\": \"goals\", \"400\": \"however\", \"401\": \"focused\", \"402\": \"edge\", \"403\": \"eyes\", \"404\": \"lives\", \"405\": \"keeping\", \"406\": \"pristine\", \"407\": \"condition\", \"408\": \"them\", \"409\": \"has\", \"410\": \"become\", \"411\": \"icon\", \"412\": \"inspire\", \"413\": \"admiration\", \"414\": \"experience\", \"415\": \"no\", \"416\": \"longer\", \"417\": \"produces\", \"418\": \"testament\", \"419\": \"brand\\\\u2019s\", \"420\": \"commitment\", \"421\": \"excellence\", \"422\": \"choice\", \"423\": \"tuning\", \"424\": \"community\", \"425\": \"owners\", \"426\": \"further\", \"427\": \"modifications\", \"428\": \"included\", \"429\": \"upgraded\", \"430\": \"turbochargers\", \"431\": \"intercoolers\", \"432\": \"components\", \"433\": \"exhaust\", \"434\": \"upgrades\", \"435\": \"push\", \"436\": \"levels\", \"437\": \"allowing\", \"438\": \"continued\", \"439\": \"competing\", \"440\": \"various\", \"441\": \"events\", \"442\": \"formidable\", \"443\": \"competitor\", \"444\": \"dominant\", \"445\": \"force\", \"446\": \"run\", \"447\": \"short\", \"448\": \"life\", \"449\": \"cherished\", \"450\": \"history\", \"451\": \"raw\", \"452\": \"exciting\", \"453\": \"is\", \"454\": \"regarded\", \"455\": \"best\", \"456\": \"ever\", \"457\": \"capture\", \"458\": \"imagination\", \"459\": \"automotive\"}',\n",
              " 'word_index': '{\"the\": 1, \"and\": 2, \"of\": 3, \"to\": 4, \"was\": 5, \"a\": 6, \"evo\": 7, \"ix\": 8, \"performance\": 9, \"its\": 10, \"in\": 11, \"car\": 12, \"it\": 13, \"with\": 14, \"cars\": 15, \"for\": 16, \"which\": 17, \"as\": 18, \"that\": 19, \"on\": 20, \"handling\": 21, \"also\": 22, \"car\\\\u2019s\": 23, \"one\": 24, \"high\": 25, \"while\": 26, \"rear\": 27, \"evolution\": 28, \"enthusiasts\": 29, \"this\": 30, \"system\": 31, \"features\": 32, \"were\": 33, \"improve\": 34, \"helped\": 35, \"motorsport\": 36, \"engineering\": 37, \"track\": 38, \"could\": 39, \"designed\": 40, \"all\": 41, \"suspension\": 42, \"front\": 43, \"stability\": 44, \"featured\": 45, \"not\": 46, \"aggressive\": 47, \"mitsubishi\": 48, \"lancer\": 49, \"most\": 50, \"impressive\": 51, \"engine\": 52, \"by\": 53, \"had\": 54, \"power\": 55, \"advanced\": 56, \"ix\\\\u2019s\": 57, \"equipped\": 58, \"around\": 59, \"interior\": 60, \"driving\": 61, \"even\": 62, \"made\": 63, \"many\": 64, \"world\": 65, \"mitsubishi\\\\u2019s\": 66, \"between\": 67, \"capabilities\": 68, \"series\": 69, \"mind\": 70, \"offering\": 71, \"wheel\": 72, \"drive\": 73, \"exceptional\": 74, \"over\": 75, \"capable\": 76, \"speeds\": 77, \"relatively\": 78, \"cornering\": 79, \"ability\": 80, \"both\": 81, \"at\": 82, \"time\": 83, \"terms\": 84, \"some\": 85, \"driver\": 86, \"control\": 87, \"limited\": 88, \"including\": 89, \"these\": 90, \"design\": 91, \"styling\": 92, \"despite\": 93, \"remains\": 94, \"rally\": 95, \"their\": 96, \"often\": 97, \"sedan\": 98, \"known\": 99, \"pedigree\": 100, \"became\": 101, \"among\": 102, \"heritage\": 103, \"build\": 104, \"motorsports\": 105, \"street\": 106, \"practicality\": 107, \"predecessors\": 108, \"turbocharged\": 109, \"characteristics\": 110, \"0\": 111, \"four\": 112, \"several\": 113, \"more\": 114, \"enough\": 115, \"lightweight\": 116, \"wheels\": 117, \"contributed\": 118, \"tuned\": 119, \"allowed\": 120, \"precise\": 121, \"from\": 122, \"mph\": 123, \"just\": 124, \"thanks\": 125, \"weight\": 126, \"speed\": 127, \"making\": 128, \"fastest\": 129, \"another\": 130, \"carefully\": 131, \"body\": 132, \"reduce\": 133, \"large\": 134, \"only\": 135, \"added\": 136, \"side\": 137, \"vehicle\": 138, \"enhance\": 139, \"overall\": 140, \"functional\": 141, \"focus\": 142, \"racing\": 143, \"seats\": 144, \"controls\": 145, \"competitors\": 146, \"ensuring\": 147, \"accessible\": 148, \"road\": 149, \"ahead\": 150, \"number\": 151, \"ayc\": 152, \"active\": 153, \"differential\": 154, \"center\": 155, \"conditions\": 156, \"situations\": 157, \"remained\": 158, \"during\": 159, \"or\": 160, \"remarkable\": 161, \"everyday\": 162, \"built\": 163, \"still\": 164, \"be\": 165, \"ride\": 166, \"combination\": 167, \"angular\": 168, \"gave\": 169, \"drawbacks\": 170, \"availability\": 171, \"model\": 172, \"rival\": 173, \"systems\": 174, \"an\": 175, \"legacy\": 176, \"today\": 177, \"modifying\": 178, \"greater\": 179, \"continues\": 180, \"popular\": 181, \"production\": 182, \"referred\": 183, \"9\": 184, \"ninth\": 185, \"iteration\": 186, \"legendary\": 187, \"produced\": 188, \"2005\": 189, \"2007\": 190, \"stands\": 191, \"iconic\": 192, \"segment\": 193, \"favorite\": 194, \"particularly\": 195, \"rallying\": 196, \"started\": 197, \"1992\": 198, \"developed\": 199, \"goal\": 200, \"excel\": 201, \"going\": 202, \"like\": 203, \"powered\": 204, \"2\": 205, \"liter\": 206, \"inline\": 207, \"4g63t\": 208, \"been\": 209, \"refined\": 210, \"iterations\": 211, \"producing\": 212, \"276\": 213, \"horsepower\": 214, \"than\": 215, \"propel\": 216, \"especially\": 217, \"considering\": 218, \"car\\'s\": 219, \"construction\": 220, \"engine\\'s\": 221, \"delivered\": 222, \"via\": 223, \"mitsubishi\\'s\": 224, \"superior\": 225, \"notable\": 226, \"sophisticated\": 227, \"multi\": 228, \"link\": 229, \"fully\": 230, \"independent\": 231, \"maximum\": 232, \"setup\": 233, \"offer\": 234, \"level\": 235, \"grip\": 236, \"few\": 237, \"match\": 238, \"true\": 239, \"machine\": 240, \"accelerating\": 241, \"60\": 242, \"5\": 243, \"seconds\": 244, \"light\": 245, \"powerful\": 246, \"top\": 247, \"155\": 248, \"class\": 249, \"braking\": 250, \"equally\": 251, \"being\": 252, \"able\": 253, \"tackle\": 254, \"tight\": 255, \"corners\": 256, \"straights\": 257, \"ease\": 258, \"important\": 259, \"aspect\": 260, \"aerodynamics\": 261, \"engineers\": 262, \"drag\": 263, \"spoiler\": 264, \"appearance\": 265, \"but\": 266, \"provided\": 267, \"downforce\": 268, \"traction\": 269, \"splitter\": 270, \"skirts\": 271, \"airflow\": 272, \"straightforward\": 273, \"bucket\": 274, \"style\": 275, \"minimalistic\": 276, \"dashboard\": 277, \"simple\": 278, \"yet\": 279, \"effective\": 280, \"layout\": 281, \"luxurious\": 282, \"easily\": 283, \"technological\": 284, \"yaw\": 285, \"distributing\": 286, \"mimic\": 287, \"effects\": 288, \"slip\": 289, \"corner\": 290, \"precision\": 291, \"addition\": 292, \"acd\": 293, \"manage\": 294, \"distribution\": 295, \"axles\": 296, \"adjust\": 297, \"based\": 298, \"giving\": 299, \"variety\": 300, \"safety\": 301, \"airbags\": 302, \"anti\": 303, \"lock\": 304, \"brakes\": 305, \"abs\": 306, \"electronic\": 307, \"esc\": 308, \"ensure\": 309, \"safe\": 310, \"stable\": 311, \"challenging\": 312, \"things\": 313, \"about\": 314, \"blend\": 315, \"usability\": 316, \"extreme\": 317, \"undoubtedly\": 318, \"practical\": 319, \"driven\": 320, \"offered\": 321, \"comfortable\": 322, \"surprisingly\": 323, \"spacious\": 324, \"size\": 325, \"unique\": 326, \"market\": 327, \"retained\": 328, \"much\": 329, \"hallmark\": 330, \"sharp\": 331, \"lines\": 332, \"wide\": 333, \"stance\": 334, \"bold\": 335, \"muscular\": 336, \"oriented\": 337, \"look\": 338, \"end\": 339, \"dominated\": 340, \"grille\": 341, \"air\": 342, \"intakes\": 343, \"prominent\": 344, \"wing\": 345, \"diffuser\": 346, \"show\": 347, \"crafted\": 348, \"materials\": 349, \"aluminum\": 350, \"strength\": 351, \"steel\": 352, \"low\": 353, \"gravity\": 354, \"without\": 355, \"firm\": 356, \"meaning\": 357, \"uncomfortable\": 358, \"rough\": 359, \"roads\": 360, \"additionally\": 361, \"lacked\": 362, \"luxury\": 363, \"found\": 364, \"cramped\": 365, \"less\": 366, \"ideal\": 367, \"carrying\": 368, \"passengers\": 369, \"long\": 370, \"trips\": 371, \"issue\": 372, \"outside\": 373, \"japan\": 374, \"sold\": 375, \"countries\": 376, \"united\": 377, \"states\": 378, \"widely\": 379, \"other\": 380, \"rarity\": 381, \"appeal\": 382, \"sought\": 383, \"after\": 384, \"collectors\": 385, \"alike\": 386, \"beloved\": 387, \"incredible\": 388, \"inspired\": 389, \"distinctive\": 390, \"compared\": 391, \"subaru\": 392, \"impreza\": 393, \"wrx\": 394, \"sti\": 395, \"shared\": 396, \"similarities\": 397, \"similar\": 398, \"goals\": 399, \"however\": 400, \"focused\": 401, \"edge\": 402, \"eyes\": 403, \"lives\": 404, \"keeping\": 405, \"pristine\": 406, \"condition\": 407, \"them\": 408, \"has\": 409, \"become\": 410, \"icon\": 411, \"inspire\": 412, \"admiration\": 413, \"experience\": 414, \"no\": 415, \"longer\": 416, \"produces\": 417, \"testament\": 418, \"brand\\\\u2019s\": 419, \"commitment\": 420, \"excellence\": 421, \"choice\": 422, \"tuning\": 423, \"community\": 424, \"owners\": 425, \"further\": 426, \"modifications\": 427, \"included\": 428, \"upgraded\": 429, \"turbochargers\": 430, \"intercoolers\": 431, \"components\": 432, \"exhaust\": 433, \"upgrades\": 434, \"push\": 435, \"levels\": 436, \"allowing\": 437, \"continued\": 438, \"competing\": 439, \"various\": 440, \"events\": 441, \"formidable\": 442, \"competitor\": 443, \"dominant\": 444, \"force\": 445, \"run\": 446, \"short\": 447, \"life\": 448, \"cherished\": 449, \"history\": 450, \"raw\": 451, \"exciting\": 452, \"is\": 453, \"regarded\": 454, \"best\": 455, \"ever\": 456, \"capture\": 457, \"imagination\": 458, \"automotive\": 459}'}"
            ]
          },
          "metadata": {},
          "execution_count": 20
        }
      ]
    },
    {
      "cell_type": "code",
      "source": [
        "tokenizer.word_index"
      ],
      "metadata": {
        "colab": {
          "base_uri": "https://localhost:8080/"
        },
        "id": "2UmZUOv-sq9p",
        "outputId": "40805c1c-f188-4a38-92b8-284ac625298c"
      },
      "execution_count": 21,
      "outputs": [
        {
          "output_type": "execute_result",
          "data": {
            "text/plain": [
              "{'the': 1,\n",
              " 'and': 2,\n",
              " 'of': 3,\n",
              " 'to': 4,\n",
              " 'was': 5,\n",
              " 'a': 6,\n",
              " 'evo': 7,\n",
              " 'ix': 8,\n",
              " 'performance': 9,\n",
              " 'its': 10,\n",
              " 'in': 11,\n",
              " 'car': 12,\n",
              " 'it': 13,\n",
              " 'with': 14,\n",
              " 'cars': 15,\n",
              " 'for': 16,\n",
              " 'which': 17,\n",
              " 'as': 18,\n",
              " 'that': 19,\n",
              " 'on': 20,\n",
              " 'handling': 21,\n",
              " 'also': 22,\n",
              " 'car’s': 23,\n",
              " 'one': 24,\n",
              " 'high': 25,\n",
              " 'while': 26,\n",
              " 'rear': 27,\n",
              " 'evolution': 28,\n",
              " 'enthusiasts': 29,\n",
              " 'this': 30,\n",
              " 'system': 31,\n",
              " 'features': 32,\n",
              " 'were': 33,\n",
              " 'improve': 34,\n",
              " 'helped': 35,\n",
              " 'motorsport': 36,\n",
              " 'engineering': 37,\n",
              " 'track': 38,\n",
              " 'could': 39,\n",
              " 'designed': 40,\n",
              " 'all': 41,\n",
              " 'suspension': 42,\n",
              " 'front': 43,\n",
              " 'stability': 44,\n",
              " 'featured': 45,\n",
              " 'not': 46,\n",
              " 'aggressive': 47,\n",
              " 'mitsubishi': 48,\n",
              " 'lancer': 49,\n",
              " 'most': 50,\n",
              " 'impressive': 51,\n",
              " 'engine': 52,\n",
              " 'by': 53,\n",
              " 'had': 54,\n",
              " 'power': 55,\n",
              " 'advanced': 56,\n",
              " 'ix’s': 57,\n",
              " 'equipped': 58,\n",
              " 'around': 59,\n",
              " 'interior': 60,\n",
              " 'driving': 61,\n",
              " 'even': 62,\n",
              " 'made': 63,\n",
              " 'many': 64,\n",
              " 'world': 65,\n",
              " 'mitsubishi’s': 66,\n",
              " 'between': 67,\n",
              " 'capabilities': 68,\n",
              " 'series': 69,\n",
              " 'mind': 70,\n",
              " 'offering': 71,\n",
              " 'wheel': 72,\n",
              " 'drive': 73,\n",
              " 'exceptional': 74,\n",
              " 'over': 75,\n",
              " 'capable': 76,\n",
              " 'speeds': 77,\n",
              " 'relatively': 78,\n",
              " 'cornering': 79,\n",
              " 'ability': 80,\n",
              " 'both': 81,\n",
              " 'at': 82,\n",
              " 'time': 83,\n",
              " 'terms': 84,\n",
              " 'some': 85,\n",
              " 'driver': 86,\n",
              " 'control': 87,\n",
              " 'limited': 88,\n",
              " 'including': 89,\n",
              " 'these': 90,\n",
              " 'design': 91,\n",
              " 'styling': 92,\n",
              " 'despite': 93,\n",
              " 'remains': 94,\n",
              " 'rally': 95,\n",
              " 'their': 96,\n",
              " 'often': 97,\n",
              " 'sedan': 98,\n",
              " 'known': 99,\n",
              " 'pedigree': 100,\n",
              " 'became': 101,\n",
              " 'among': 102,\n",
              " 'heritage': 103,\n",
              " 'build': 104,\n",
              " 'motorsports': 105,\n",
              " 'street': 106,\n",
              " 'practicality': 107,\n",
              " 'predecessors': 108,\n",
              " 'turbocharged': 109,\n",
              " 'characteristics': 110,\n",
              " '0': 111,\n",
              " 'four': 112,\n",
              " 'several': 113,\n",
              " 'more': 114,\n",
              " 'enough': 115,\n",
              " 'lightweight': 116,\n",
              " 'wheels': 117,\n",
              " 'contributed': 118,\n",
              " 'tuned': 119,\n",
              " 'allowed': 120,\n",
              " 'precise': 121,\n",
              " 'from': 122,\n",
              " 'mph': 123,\n",
              " 'just': 124,\n",
              " 'thanks': 125,\n",
              " 'weight': 126,\n",
              " 'speed': 127,\n",
              " 'making': 128,\n",
              " 'fastest': 129,\n",
              " 'another': 130,\n",
              " 'carefully': 131,\n",
              " 'body': 132,\n",
              " 'reduce': 133,\n",
              " 'large': 134,\n",
              " 'only': 135,\n",
              " 'added': 136,\n",
              " 'side': 137,\n",
              " 'vehicle': 138,\n",
              " 'enhance': 139,\n",
              " 'overall': 140,\n",
              " 'functional': 141,\n",
              " 'focus': 142,\n",
              " 'racing': 143,\n",
              " 'seats': 144,\n",
              " 'controls': 145,\n",
              " 'competitors': 146,\n",
              " 'ensuring': 147,\n",
              " 'accessible': 148,\n",
              " 'road': 149,\n",
              " 'ahead': 150,\n",
              " 'number': 151,\n",
              " 'ayc': 152,\n",
              " 'active': 153,\n",
              " 'differential': 154,\n",
              " 'center': 155,\n",
              " 'conditions': 156,\n",
              " 'situations': 157,\n",
              " 'remained': 158,\n",
              " 'during': 159,\n",
              " 'or': 160,\n",
              " 'remarkable': 161,\n",
              " 'everyday': 162,\n",
              " 'built': 163,\n",
              " 'still': 164,\n",
              " 'be': 165,\n",
              " 'ride': 166,\n",
              " 'combination': 167,\n",
              " 'angular': 168,\n",
              " 'gave': 169,\n",
              " 'drawbacks': 170,\n",
              " 'availability': 171,\n",
              " 'model': 172,\n",
              " 'rival': 173,\n",
              " 'systems': 174,\n",
              " 'an': 175,\n",
              " 'legacy': 176,\n",
              " 'today': 177,\n",
              " 'modifying': 178,\n",
              " 'greater': 179,\n",
              " 'continues': 180,\n",
              " 'popular': 181,\n",
              " 'production': 182,\n",
              " 'referred': 183,\n",
              " '9': 184,\n",
              " 'ninth': 185,\n",
              " 'iteration': 186,\n",
              " 'legendary': 187,\n",
              " 'produced': 188,\n",
              " '2005': 189,\n",
              " '2007': 190,\n",
              " 'stands': 191,\n",
              " 'iconic': 192,\n",
              " 'segment': 193,\n",
              " 'favorite': 194,\n",
              " 'particularly': 195,\n",
              " 'rallying': 196,\n",
              " 'started': 197,\n",
              " '1992': 198,\n",
              " 'developed': 199,\n",
              " 'goal': 200,\n",
              " 'excel': 201,\n",
              " 'going': 202,\n",
              " 'like': 203,\n",
              " 'powered': 204,\n",
              " '2': 205,\n",
              " 'liter': 206,\n",
              " 'inline': 207,\n",
              " '4g63t': 208,\n",
              " 'been': 209,\n",
              " 'refined': 210,\n",
              " 'iterations': 211,\n",
              " 'producing': 212,\n",
              " '276': 213,\n",
              " 'horsepower': 214,\n",
              " 'than': 215,\n",
              " 'propel': 216,\n",
              " 'especially': 217,\n",
              " 'considering': 218,\n",
              " \"car's\": 219,\n",
              " 'construction': 220,\n",
              " \"engine's\": 221,\n",
              " 'delivered': 222,\n",
              " 'via': 223,\n",
              " \"mitsubishi's\": 224,\n",
              " 'superior': 225,\n",
              " 'notable': 226,\n",
              " 'sophisticated': 227,\n",
              " 'multi': 228,\n",
              " 'link': 229,\n",
              " 'fully': 230,\n",
              " 'independent': 231,\n",
              " 'maximum': 232,\n",
              " 'setup': 233,\n",
              " 'offer': 234,\n",
              " 'level': 235,\n",
              " 'grip': 236,\n",
              " 'few': 237,\n",
              " 'match': 238,\n",
              " 'true': 239,\n",
              " 'machine': 240,\n",
              " 'accelerating': 241,\n",
              " '60': 242,\n",
              " '5': 243,\n",
              " 'seconds': 244,\n",
              " 'light': 245,\n",
              " 'powerful': 246,\n",
              " 'top': 247,\n",
              " '155': 248,\n",
              " 'class': 249,\n",
              " 'braking': 250,\n",
              " 'equally': 251,\n",
              " 'being': 252,\n",
              " 'able': 253,\n",
              " 'tackle': 254,\n",
              " 'tight': 255,\n",
              " 'corners': 256,\n",
              " 'straights': 257,\n",
              " 'ease': 258,\n",
              " 'important': 259,\n",
              " 'aspect': 260,\n",
              " 'aerodynamics': 261,\n",
              " 'engineers': 262,\n",
              " 'drag': 263,\n",
              " 'spoiler': 264,\n",
              " 'appearance': 265,\n",
              " 'but': 266,\n",
              " 'provided': 267,\n",
              " 'downforce': 268,\n",
              " 'traction': 269,\n",
              " 'splitter': 270,\n",
              " 'skirts': 271,\n",
              " 'airflow': 272,\n",
              " 'straightforward': 273,\n",
              " 'bucket': 274,\n",
              " 'style': 275,\n",
              " 'minimalistic': 276,\n",
              " 'dashboard': 277,\n",
              " 'simple': 278,\n",
              " 'yet': 279,\n",
              " 'effective': 280,\n",
              " 'layout': 281,\n",
              " 'luxurious': 282,\n",
              " 'easily': 283,\n",
              " 'technological': 284,\n",
              " 'yaw': 285,\n",
              " 'distributing': 286,\n",
              " 'mimic': 287,\n",
              " 'effects': 288,\n",
              " 'slip': 289,\n",
              " 'corner': 290,\n",
              " 'precision': 291,\n",
              " 'addition': 292,\n",
              " 'acd': 293,\n",
              " 'manage': 294,\n",
              " 'distribution': 295,\n",
              " 'axles': 296,\n",
              " 'adjust': 297,\n",
              " 'based': 298,\n",
              " 'giving': 299,\n",
              " 'variety': 300,\n",
              " 'safety': 301,\n",
              " 'airbags': 302,\n",
              " 'anti': 303,\n",
              " 'lock': 304,\n",
              " 'brakes': 305,\n",
              " 'abs': 306,\n",
              " 'electronic': 307,\n",
              " 'esc': 308,\n",
              " 'ensure': 309,\n",
              " 'safe': 310,\n",
              " 'stable': 311,\n",
              " 'challenging': 312,\n",
              " 'things': 313,\n",
              " 'about': 314,\n",
              " 'blend': 315,\n",
              " 'usability': 316,\n",
              " 'extreme': 317,\n",
              " 'undoubtedly': 318,\n",
              " 'practical': 319,\n",
              " 'driven': 320,\n",
              " 'offered': 321,\n",
              " 'comfortable': 322,\n",
              " 'surprisingly': 323,\n",
              " 'spacious': 324,\n",
              " 'size': 325,\n",
              " 'unique': 326,\n",
              " 'market': 327,\n",
              " 'retained': 328,\n",
              " 'much': 329,\n",
              " 'hallmark': 330,\n",
              " 'sharp': 331,\n",
              " 'lines': 332,\n",
              " 'wide': 333,\n",
              " 'stance': 334,\n",
              " 'bold': 335,\n",
              " 'muscular': 336,\n",
              " 'oriented': 337,\n",
              " 'look': 338,\n",
              " 'end': 339,\n",
              " 'dominated': 340,\n",
              " 'grille': 341,\n",
              " 'air': 342,\n",
              " 'intakes': 343,\n",
              " 'prominent': 344,\n",
              " 'wing': 345,\n",
              " 'diffuser': 346,\n",
              " 'show': 347,\n",
              " 'crafted': 348,\n",
              " 'materials': 349,\n",
              " 'aluminum': 350,\n",
              " 'strength': 351,\n",
              " 'steel': 352,\n",
              " 'low': 353,\n",
              " 'gravity': 354,\n",
              " 'without': 355,\n",
              " 'firm': 356,\n",
              " 'meaning': 357,\n",
              " 'uncomfortable': 358,\n",
              " 'rough': 359,\n",
              " 'roads': 360,\n",
              " 'additionally': 361,\n",
              " 'lacked': 362,\n",
              " 'luxury': 363,\n",
              " 'found': 364,\n",
              " 'cramped': 365,\n",
              " 'less': 366,\n",
              " 'ideal': 367,\n",
              " 'carrying': 368,\n",
              " 'passengers': 369,\n",
              " 'long': 370,\n",
              " 'trips': 371,\n",
              " 'issue': 372,\n",
              " 'outside': 373,\n",
              " 'japan': 374,\n",
              " 'sold': 375,\n",
              " 'countries': 376,\n",
              " 'united': 377,\n",
              " 'states': 378,\n",
              " 'widely': 379,\n",
              " 'other': 380,\n",
              " 'rarity': 381,\n",
              " 'appeal': 382,\n",
              " 'sought': 383,\n",
              " 'after': 384,\n",
              " 'collectors': 385,\n",
              " 'alike': 386,\n",
              " 'beloved': 387,\n",
              " 'incredible': 388,\n",
              " 'inspired': 389,\n",
              " 'distinctive': 390,\n",
              " 'compared': 391,\n",
              " 'subaru': 392,\n",
              " 'impreza': 393,\n",
              " 'wrx': 394,\n",
              " 'sti': 395,\n",
              " 'shared': 396,\n",
              " 'similarities': 397,\n",
              " 'similar': 398,\n",
              " 'goals': 399,\n",
              " 'however': 400,\n",
              " 'focused': 401,\n",
              " 'edge': 402,\n",
              " 'eyes': 403,\n",
              " 'lives': 404,\n",
              " 'keeping': 405,\n",
              " 'pristine': 406,\n",
              " 'condition': 407,\n",
              " 'them': 408,\n",
              " 'has': 409,\n",
              " 'become': 410,\n",
              " 'icon': 411,\n",
              " 'inspire': 412,\n",
              " 'admiration': 413,\n",
              " 'experience': 414,\n",
              " 'no': 415,\n",
              " 'longer': 416,\n",
              " 'produces': 417,\n",
              " 'testament': 418,\n",
              " 'brand’s': 419,\n",
              " 'commitment': 420,\n",
              " 'excellence': 421,\n",
              " 'choice': 422,\n",
              " 'tuning': 423,\n",
              " 'community': 424,\n",
              " 'owners': 425,\n",
              " 'further': 426,\n",
              " 'modifications': 427,\n",
              " 'included': 428,\n",
              " 'upgraded': 429,\n",
              " 'turbochargers': 430,\n",
              " 'intercoolers': 431,\n",
              " 'components': 432,\n",
              " 'exhaust': 433,\n",
              " 'upgrades': 434,\n",
              " 'push': 435,\n",
              " 'levels': 436,\n",
              " 'allowing': 437,\n",
              " 'continued': 438,\n",
              " 'competing': 439,\n",
              " 'various': 440,\n",
              " 'events': 441,\n",
              " 'formidable': 442,\n",
              " 'competitor': 443,\n",
              " 'dominant': 444,\n",
              " 'force': 445,\n",
              " 'run': 446,\n",
              " 'short': 447,\n",
              " 'life': 448,\n",
              " 'cherished': 449,\n",
              " 'history': 450,\n",
              " 'raw': 451,\n",
              " 'exciting': 452,\n",
              " 'is': 453,\n",
              " 'regarded': 454,\n",
              " 'best': 455,\n",
              " 'ever': 456,\n",
              " 'capture': 457,\n",
              " 'imagination': 458,\n",
              " 'automotive': 459}"
            ]
          },
          "metadata": {},
          "execution_count": 21
        }
      ]
    },
    {
      "cell_type": "code",
      "source": [
        "for sentence in evo_ix.split('\\n'):\n",
        "    print(sentence)\n",
        "    token_sentence = tokenizer.texts_to_sequences([sentence])[0]\n",
        "    print(token_sentence)\n",
        ""
      ],
      "metadata": {
        "colab": {
          "base_uri": "https://localhost:8080/"
        },
        "id": "yzDzrWzctD6r",
        "outputId": "85a309a4-ff9e-4d4c-9c27-a639b65d931c"
      },
      "execution_count": 22,
      "outputs": [
        {
          "output_type": "stream",
          "name": "stdout",
          "text": [
            "The Mitsubishi Lancer Evolution IX, often referred to as the Evo 9, was the ninth iteration of Mitsubishi’s legendary performance car. The Lancer Evolution IX was produced between 2005 and 2007, and it stands as one of the most iconic cars in the performance sedan segment. Known for its motorsport pedigree and impressive engineering, the Evo IX became a favorite among car enthusiasts, particularly for its rallying heritage and track capabilities.\n",
            "[1, 48, 49, 28, 8, 97, 183, 4, 18, 1, 7, 184, 5, 1, 185, 186, 3, 66, 187, 9, 12, 1, 49, 28, 8, 5, 188, 67, 189, 2, 190, 2, 13, 191, 18, 24, 3, 1, 50, 192, 15, 11, 1, 9, 98, 193, 99, 16, 10, 36, 100, 2, 51, 37, 1, 7, 8, 101, 6, 194, 102, 12, 29, 195, 16, 10, 196, 103, 2, 38, 68]\n",
            "\n",
            "[]\n",
            "Mitsubishi’s Lancer Evolution series, which started in 1992, was developed with one goal in mind: to build a high-performance car that could excel in motorsports while offering street-going practicality. The Evo IX, like its predecessors, was designed as a performance sedan with a turbocharged engine, all-wheel drive, and exceptional handling characteristics.\n",
            "[66, 49, 28, 69, 17, 197, 11, 198, 5, 199, 14, 24, 200, 11, 70, 4, 104, 6, 25, 9, 12, 19, 39, 201, 11, 105, 26, 71, 106, 202, 107, 1, 7, 8, 203, 10, 108, 5, 40, 18, 6, 9, 98, 14, 6, 109, 52, 41, 72, 73, 2, 74, 21, 110]\n",
            "\n",
            "[]\n",
            "The Evo IX was powered by a 2.0-liter turbocharged inline-four engine, known as the 4G63T, which had been refined over several iterations. This engine was capable of producing 276 horsepower, which was more than enough to propel the car to impressive speeds, especially considering the car's relatively lightweight construction. The engine's power was delivered to all four wheels via Mitsubishi's advanced all-wheel-drive system, which contributed to the Evo IX’s superior handling and cornering ability.\n",
            "[1, 7, 8, 5, 204, 53, 6, 205, 111, 206, 109, 207, 112, 52, 99, 18, 1, 208, 17, 54, 209, 210, 75, 113, 211, 30, 52, 5, 76, 3, 212, 213, 214, 17, 5, 114, 215, 115, 4, 216, 1, 12, 4, 51, 77, 217, 218, 1, 219, 78, 116, 220, 1, 221, 55, 5, 222, 4, 41, 112, 117, 223, 224, 56, 41, 72, 73, 31, 17, 118, 4, 1, 7, 57, 225, 21, 2, 79, 80]\n",
            "\n",
            "[]\n",
            "One of the most notable features of the Evo IX was its sophisticated suspension system. The car was equipped with a multi-link rear suspension and a fully independent front suspension, both of which were tuned for maximum performance. This setup allowed the Evo IX to offer precise handling, exceptional stability, and a level of grip that few cars could match at the time.\n",
            "[24, 3, 1, 50, 226, 32, 3, 1, 7, 8, 5, 10, 227, 42, 31, 1, 12, 5, 58, 14, 6, 228, 229, 27, 42, 2, 6, 230, 231, 43, 42, 81, 3, 17, 33, 119, 16, 232, 9, 30, 233, 120, 1, 7, 8, 4, 234, 121, 21, 74, 44, 2, 6, 235, 3, 236, 19, 237, 15, 39, 238, 82, 1, 83]\n",
            "\n",
            "[]\n",
            "In terms of performance, the Evo IX was a true track machine. The car was capable of accelerating from 0 to 60 mph in just over 5 seconds, thanks to its light weight and powerful engine. The Evo IX also had a top speed of around 155 mph, making it one of the fastest cars in its class. Its handling and braking performance were equally impressive, with the car being able to tackle tight corners and high-speed straights with ease.\n",
            "[11, 84, 3, 9, 1, 7, 8, 5, 6, 239, 38, 240, 1, 12, 5, 76, 3, 241, 122, 111, 4, 242, 123, 11, 124, 75, 243, 244, 125, 4, 10, 245, 126, 2, 246, 52, 1, 7, 8, 22, 54, 6, 247, 127, 3, 59, 248, 123, 128, 13, 24, 3, 1, 129, 15, 11, 10, 249, 10, 21, 2, 250, 9, 33, 251, 51, 14, 1, 12, 252, 253, 4, 254, 255, 256, 2, 25, 127, 257, 14, 258]\n",
            "\n",
            "[]\n",
            "Another important aspect of the Evo IX was its aerodynamics. Mitsubishi engineers carefully designed the car’s body to reduce drag and improve stability at high speeds. The Evo IX featured a large rear spoiler, which not only added to its aggressive appearance but also provided downforce to improve traction at high speeds. The car also had a front splitter and side skirts, both of which helped to improve airflow around the vehicle and enhance its overall performance.\n",
            "[130, 259, 260, 3, 1, 7, 8, 5, 10, 261, 48, 262, 131, 40, 1, 23, 132, 4, 133, 263, 2, 34, 44, 82, 25, 77, 1, 7, 8, 45, 6, 134, 27, 264, 17, 46, 135, 136, 4, 10, 47, 265, 266, 22, 267, 268, 4, 34, 269, 82, 25, 77, 1, 12, 22, 54, 6, 43, 270, 2, 137, 271, 81, 3, 17, 35, 4, 34, 272, 59, 1, 138, 2, 139, 10, 140, 9]\n",
            "\n",
            "[]\n",
            "The interior of the Evo IX was functional and straightforward, with a focus on performance. The car featured bucket-style racing seats, a minimalistic dashboard, and a simple yet effective layout of controls. While the interior was not as luxurious as some of its competitors, it was designed with the driver in mind, ensuring that all controls were easily accessible and that the driver could focus on the road ahead.\n",
            "[1, 60, 3, 1, 7, 8, 5, 141, 2, 273, 14, 6, 142, 20, 9, 1, 12, 45, 274, 275, 143, 144, 6, 276, 277, 2, 6, 278, 279, 280, 281, 3, 145, 26, 1, 60, 5, 46, 18, 282, 18, 85, 3, 10, 146, 13, 5, 40, 14, 1, 86, 11, 70, 147, 19, 41, 145, 33, 283, 148, 2, 19, 1, 86, 39, 142, 20, 1, 149, 150]\n",
            "\n",
            "[]\n",
            "The Evo IX also featured a number of advanced technological features that were ahead of its time. The car was equipped with Mitsubishi’s AYC (Active Yaw Control) system, which helped to improve cornering by distributing power between the rear wheels. This system was designed to mimic the effects of a limited-slip differential, ensuring that the Evo IX could corner with exceptional precision and stability.\n",
            "[1, 7, 8, 22, 45, 6, 151, 3, 56, 284, 32, 19, 33, 150, 3, 10, 83, 1, 12, 5, 58, 14, 66, 152, 153, 285, 87, 31, 17, 35, 4, 34, 79, 53, 286, 55, 67, 1, 27, 117, 30, 31, 5, 40, 4, 287, 1, 288, 3, 6, 88, 289, 154, 147, 19, 1, 7, 8, 39, 290, 14, 74, 291, 2, 44]\n",
            "\n",
            "[]\n",
            "In addition to the AYC system, the Evo IX was also equipped with the ACD (Active Center Differential), which helped to manage power distribution between the front and rear axles. This system allowed the car to adjust its handling characteristics based on driving conditions, giving the driver more control over the car in a variety of situations.\n",
            "[11, 292, 4, 1, 152, 31, 1, 7, 8, 5, 22, 58, 14, 1, 293, 153, 155, 154, 17, 35, 4, 294, 55, 295, 67, 1, 43, 2, 27, 296, 30, 31, 120, 1, 12, 4, 297, 10, 21, 110, 298, 20, 61, 156, 299, 1, 86, 114, 87, 75, 1, 12, 11, 6, 300, 3, 157]\n",
            "\n",
            "[]\n",
            "The Evo IX was also equipped with a number of safety features, including front and side airbags, anti-lock brakes (ABS), and electronic stability control (ESC). These features helped to ensure that the car remained safe and stable, even during aggressive driving or in challenging conditions.\n",
            "[1, 7, 8, 5, 22, 58, 14, 6, 151, 3, 301, 32, 89, 43, 2, 137, 302, 303, 304, 305, 306, 2, 307, 44, 87, 308, 90, 32, 35, 4, 309, 19, 1, 12, 158, 310, 2, 311, 62, 159, 47, 61, 160, 11, 312, 156]\n",
            "\n",
            "[]\n",
            "One of the most remarkable things about the Evo IX was its ability to blend everyday usability with extreme performance. While the car was undoubtedly built for the track, it was still practical enough to be driven on the street. The Evo IX offered a relatively comfortable ride for a performance car, and it had a surprisingly spacious interior for a car of its size. This combination of performance and practicality made the Evo IX a unique offering in the performance car market.\n",
            "[24, 3, 1, 50, 161, 313, 314, 1, 7, 8, 5, 10, 80, 4, 315, 162, 316, 14, 317, 9, 26, 1, 12, 5, 318, 163, 16, 1, 38, 13, 5, 164, 319, 115, 4, 165, 320, 20, 1, 106, 1, 7, 8, 321, 6, 78, 322, 166, 16, 6, 9, 12, 2, 13, 54, 6, 323, 324, 60, 16, 6, 12, 3, 10, 325, 30, 167, 3, 9, 2, 107, 63, 1, 7, 8, 6, 326, 71, 11, 1, 9, 12, 327]\n",
            "\n",
            "[]\n",
            "In terms of design, the Evo IX retained much of the aggressive styling that was a hallmark of the Evolution series. The car featured sharp, angular lines, a wide stance, and bold features that gave it a muscular and performance-oriented look. The front end of the car was dominated by a large, angular grille and aggressive air intakes, while the rear featured a prominent rear wing and diffuser.\n",
            "[11, 84, 3, 91, 1, 7, 8, 328, 329, 3, 1, 47, 92, 19, 5, 6, 330, 3, 1, 28, 69, 1, 12, 45, 331, 168, 332, 6, 333, 334, 2, 335, 32, 19, 169, 13, 6, 336, 2, 9, 337, 338, 1, 43, 339, 3, 1, 12, 5, 340, 53, 6, 134, 168, 341, 2, 47, 342, 343, 26, 1, 27, 45, 6, 344, 27, 345, 2, 346]\n",
            "\n",
            "[]\n",
            "The Evo IX’s design was not just for show; it was carefully crafted to improve the car’s performance. The body was made from lightweight materials, including aluminum and high-strength steel, which helped to reduce weight and improve the car’s overall handling. The car’s low center of gravity also contributed to its impressive stability and cornering ability.\n",
            "[1, 7, 57, 91, 5, 46, 124, 16, 347, 13, 5, 131, 348, 4, 34, 1, 23, 9, 1, 132, 5, 63, 122, 116, 349, 89, 350, 2, 25, 351, 352, 17, 35, 4, 133, 126, 2, 34, 1, 23, 140, 21, 1, 23, 353, 155, 3, 354, 22, 118, 4, 10, 51, 44, 2, 79, 80]\n",
            "\n",
            "[]\n",
            "Despite its remarkable performance, the Evo IX was not without its drawbacks. The car’s ride was firm, and the suspension was tuned for track performance, meaning that it could be uncomfortable on rough roads or in everyday driving situations. Additionally, the interior, while functional, lacked the luxury features found in some of its competitors, and the car’s rear seats were cramped, making it less ideal for carrying passengers on long trips.\n",
            "[93, 10, 161, 9, 1, 7, 8, 5, 46, 355, 10, 170, 1, 23, 166, 5, 356, 2, 1, 42, 5, 119, 16, 38, 9, 357, 19, 13, 39, 165, 358, 20, 359, 360, 160, 11, 162, 61, 157, 361, 1, 60, 26, 141, 362, 1, 363, 32, 364, 11, 85, 3, 10, 146, 2, 1, 23, 27, 144, 33, 365, 128, 13, 366, 367, 16, 368, 369, 20, 370, 371]\n",
            "\n",
            "[]\n",
            "Another issue with the Evo IX was its limited availability outside of Japan. While the car was sold in several countries, including the United States, its availability was limited, and it was not as widely accessible as other performance cars. This rarity only added to the car’s appeal, as it became a sought-after vehicle for collectors and performance car enthusiasts alike.\n",
            "[130, 372, 14, 1, 7, 8, 5, 10, 88, 171, 373, 3, 374, 26, 1, 12, 5, 375, 11, 113, 376, 89, 1, 377, 378, 10, 171, 5, 88, 2, 13, 5, 46, 18, 379, 148, 18, 380, 9, 15, 30, 381, 135, 136, 4, 1, 23, 382, 18, 13, 101, 6, 383, 384, 138, 16, 385, 2, 9, 12, 29, 386]\n",
            "\n",
            "[]\n",
            "Despite these drawbacks, the Evo IX remains a beloved model among car enthusiasts, thanks to its incredible performance, rally-inspired heritage, and distinctive styling. The car was often compared to its rival, the Subaru Impreza WRX STI, with which it shared many similarities in terms of performance and design. Both cars were designed with similar goals in mind, offering high-performance capabilities, advanced all-wheel-drive systems, and aggressive styling. However, the Evo IX’s precise handling and track-focused engineering gave it an edge in the eyes of many enthusiasts.\n",
            "[93, 90, 170, 1, 7, 8, 94, 6, 387, 172, 102, 12, 29, 125, 4, 10, 388, 9, 95, 389, 103, 2, 390, 92, 1, 12, 5, 97, 391, 4, 10, 173, 1, 392, 393, 394, 395, 14, 17, 13, 396, 64, 397, 11, 84, 3, 9, 2, 91, 81, 15, 33, 40, 14, 398, 399, 11, 70, 71, 25, 9, 68, 56, 41, 72, 73, 174, 2, 47, 92, 400, 1, 7, 57, 121, 21, 2, 38, 401, 37, 169, 13, 175, 402, 11, 1, 403, 3, 64, 29]\n",
            "\n",
            "[]\n",
            "The Evo IX’s legacy lives on today, with many enthusiasts still keeping their cars in pristine condition and modifying them for even greater performance. The car has become an icon in the world of motorsports and performance cars, and it continues to inspire admiration for its engineering, handling, and driving experience. While Mitsubishi no longer produces the Evolution series, the Evo IX remains a testament to the brand’s commitment to high-performance engineering and motorsport excellence.\n",
            "[1, 7, 57, 176, 404, 20, 177, 14, 64, 29, 164, 405, 96, 15, 11, 406, 407, 2, 178, 408, 16, 62, 179, 9, 1, 12, 409, 410, 175, 411, 11, 1, 65, 3, 105, 2, 9, 15, 2, 13, 180, 4, 412, 413, 16, 10, 37, 21, 2, 61, 414, 26, 48, 415, 416, 417, 1, 28, 69, 1, 7, 8, 94, 6, 418, 4, 1, 419, 420, 4, 25, 9, 37, 2, 36, 421]\n",
            "\n",
            "[]\n",
            "The Evo IX was also a popular choice in the tuning community, with many owners modifying their cars to further enhance their performance. Popular modifications included upgraded turbochargers, intercoolers, suspension components, and exhaust systems. These upgrades helped to push the Evo IX to even greater levels of performance, allowing it to rival some of the fastest cars on the road.\n",
            "[1, 7, 8, 5, 22, 6, 181, 422, 11, 1, 423, 424, 14, 64, 425, 178, 96, 15, 4, 426, 139, 96, 9, 181, 427, 428, 429, 430, 431, 42, 432, 2, 433, 174, 90, 434, 35, 4, 435, 1, 7, 8, 4, 62, 179, 436, 3, 9, 437, 13, 4, 173, 85, 3, 1, 129, 15, 20, 1, 149]\n",
            "\n",
            "[]\n",
            "In motorsport, the Evo IX continued to build on the legacy of its predecessors, competing in various rally and motorsport events around the world. The car’s performance capabilities made it a formidable competitor, and it remained a dominant force in the world of rally racing during its production run.\n",
            "[11, 36, 1, 7, 8, 438, 4, 104, 20, 1, 176, 3, 10, 108, 439, 11, 440, 95, 2, 36, 441, 59, 1, 65, 1, 23, 9, 68, 63, 13, 6, 442, 443, 2, 13, 158, 6, 444, 445, 11, 1, 65, 3, 95, 143, 159, 10, 182, 446]\n",
            "\n",
            "[]\n",
            "Despite its relatively short production life, the Lancer Evolution IX remains a cherished model in the history of performance cars. Its combination of raw power, advanced engineering, and motorsport pedigree made it one of the most capable and exciting cars of its time. Even today, the Evo IX is regarded as one of the best cars ever built by Mitsubishi, and it continues to capture the imagination of automotive enthusiasts around the world.\n",
            "[93, 10, 78, 447, 182, 448, 1, 49, 28, 8, 94, 6, 449, 172, 11, 1, 450, 3, 9, 15, 10, 167, 3, 451, 55, 56, 37, 2, 36, 100, 63, 13, 24, 3, 1, 50, 76, 2, 452, 15, 3, 10, 83, 62, 177, 1, 7, 8, 453, 454, 18, 24, 3, 1, 455, 15, 456, 163, 53, 48, 2, 13, 180, 4, 457, 1, 458, 3, 459, 29, 59, 1, 65]\n"
          ]
        }
      ]
    },
    {
      "cell_type": "code",
      "source": [
        "input_sequences = []\n",
        "\n",
        "for sentence in evo_ix.split('\\n'):\n",
        "\n",
        "    token_sentence = tokenizer.texts_to_sequences([sentence])[0]\n",
        "\n",
        "    for i in range(1, len(token_sentence)):\n",
        "        sequence = token_sentence[:i+1]\n",
        "        input_sequences.append(sequence)\n",
        ""
      ],
      "metadata": {
        "id": "JkoZixwFtUVC"
      },
      "execution_count": 23,
      "outputs": []
    },
    {
      "cell_type": "code",
      "source": [
        "input_sequences[:5]"
      ],
      "metadata": {
        "colab": {
          "base_uri": "https://localhost:8080/"
        },
        "id": "NzpvxqgvuTWx",
        "outputId": "34e579c7-e4ed-41f9-a622-ca756ba3ba2d"
      },
      "execution_count": 24,
      "outputs": [
        {
          "output_type": "execute_result",
          "data": {
            "text/plain": [
              "[[1, 48],\n",
              " [1, 48, 49],\n",
              " [1, 48, 49, 28],\n",
              " [1, 48, 49, 28, 8],\n",
              " [1, 48, 49, 28, 8, 97]]"
            ]
          },
          "metadata": {},
          "execution_count": 24
        }
      ]
    },
    {
      "cell_type": "code",
      "source": [
        "max_length = max([len(x) for x in input_sequences])\n",
        "max_length"
      ],
      "metadata": {
        "colab": {
          "base_uri": "https://localhost:8080/"
        },
        "id": "8hrUgWayuryw",
        "outputId": "d74d286f-dc5a-49b2-892c-45d9fb204e8b"
      },
      "execution_count": 25,
      "outputs": [
        {
          "output_type": "execute_result",
          "data": {
            "text/plain": [
              "90"
            ]
          },
          "metadata": {},
          "execution_count": 25
        }
      ]
    },
    {
      "cell_type": "code",
      "source": [
        "input_sequences = np.array(tf.keras.preprocessing.sequence.pad_sequences(input_sequences, maxlen=max_length, padding='pre'))"
      ],
      "metadata": {
        "id": "EIIu4Ojmu7wx"
      },
      "execution_count": 26,
      "outputs": []
    },
    {
      "cell_type": "code",
      "source": [
        "input_sequences[:5]"
      ],
      "metadata": {
        "colab": {
          "base_uri": "https://localhost:8080/"
        },
        "id": "0Mzd21JHvFq3",
        "outputId": "d0ba1c3a-5d89-4dcc-8145-6b5972bb9fb7"
      },
      "execution_count": 27,
      "outputs": [
        {
          "output_type": "execute_result",
          "data": {
            "text/plain": [
              "array([[ 0,  0,  0,  0,  0,  0,  0,  0,  0,  0,  0,  0,  0,  0,  0,  0,\n",
              "         0,  0,  0,  0,  0,  0,  0,  0,  0,  0,  0,  0,  0,  0,  0,  0,\n",
              "         0,  0,  0,  0,  0,  0,  0,  0,  0,  0,  0,  0,  0,  0,  0,  0,\n",
              "         0,  0,  0,  0,  0,  0,  0,  0,  0,  0,  0,  0,  0,  0,  0,  0,\n",
              "         0,  0,  0,  0,  0,  0,  0,  0,  0,  0,  0,  0,  0,  0,  0,  0,\n",
              "         0,  0,  0,  0,  0,  0,  0,  0,  1, 48],\n",
              "       [ 0,  0,  0,  0,  0,  0,  0,  0,  0,  0,  0,  0,  0,  0,  0,  0,\n",
              "         0,  0,  0,  0,  0,  0,  0,  0,  0,  0,  0,  0,  0,  0,  0,  0,\n",
              "         0,  0,  0,  0,  0,  0,  0,  0,  0,  0,  0,  0,  0,  0,  0,  0,\n",
              "         0,  0,  0,  0,  0,  0,  0,  0,  0,  0,  0,  0,  0,  0,  0,  0,\n",
              "         0,  0,  0,  0,  0,  0,  0,  0,  0,  0,  0,  0,  0,  0,  0,  0,\n",
              "         0,  0,  0,  0,  0,  0,  0,  1, 48, 49],\n",
              "       [ 0,  0,  0,  0,  0,  0,  0,  0,  0,  0,  0,  0,  0,  0,  0,  0,\n",
              "         0,  0,  0,  0,  0,  0,  0,  0,  0,  0,  0,  0,  0,  0,  0,  0,\n",
              "         0,  0,  0,  0,  0,  0,  0,  0,  0,  0,  0,  0,  0,  0,  0,  0,\n",
              "         0,  0,  0,  0,  0,  0,  0,  0,  0,  0,  0,  0,  0,  0,  0,  0,\n",
              "         0,  0,  0,  0,  0,  0,  0,  0,  0,  0,  0,  0,  0,  0,  0,  0,\n",
              "         0,  0,  0,  0,  0,  0,  1, 48, 49, 28],\n",
              "       [ 0,  0,  0,  0,  0,  0,  0,  0,  0,  0,  0,  0,  0,  0,  0,  0,\n",
              "         0,  0,  0,  0,  0,  0,  0,  0,  0,  0,  0,  0,  0,  0,  0,  0,\n",
              "         0,  0,  0,  0,  0,  0,  0,  0,  0,  0,  0,  0,  0,  0,  0,  0,\n",
              "         0,  0,  0,  0,  0,  0,  0,  0,  0,  0,  0,  0,  0,  0,  0,  0,\n",
              "         0,  0,  0,  0,  0,  0,  0,  0,  0,  0,  0,  0,  0,  0,  0,  0,\n",
              "         0,  0,  0,  0,  0,  1, 48, 49, 28,  8],\n",
              "       [ 0,  0,  0,  0,  0,  0,  0,  0,  0,  0,  0,  0,  0,  0,  0,  0,\n",
              "         0,  0,  0,  0,  0,  0,  0,  0,  0,  0,  0,  0,  0,  0,  0,  0,\n",
              "         0,  0,  0,  0,  0,  0,  0,  0,  0,  0,  0,  0,  0,  0,  0,  0,\n",
              "         0,  0,  0,  0,  0,  0,  0,  0,  0,  0,  0,  0,  0,  0,  0,  0,\n",
              "         0,  0,  0,  0,  0,  0,  0,  0,  0,  0,  0,  0,  0,  0,  0,  0,\n",
              "         0,  0,  0,  0,  1, 48, 49, 28,  8, 97]], dtype=int32)"
            ]
          },
          "metadata": {},
          "execution_count": 27
        }
      ]
    },
    {
      "cell_type": "code",
      "source": [
        "X = input_sequences[:, :-1]\n",
        "y = input_sequences[:, -1]"
      ],
      "metadata": {
        "id": "1wrr3KjFvHkI"
      },
      "execution_count": 28,
      "outputs": []
    },
    {
      "cell_type": "code",
      "source": [
        "X[0]"
      ],
      "metadata": {
        "colab": {
          "base_uri": "https://localhost:8080/"
        },
        "id": "LnmrdAOKvS7x",
        "outputId": "f7fc35e3-d554-4c09-bb8f-255f761a6d30"
      },
      "execution_count": 29,
      "outputs": [
        {
          "output_type": "execute_result",
          "data": {
            "text/plain": [
              "array([0, 0, 0, 0, 0, 0, 0, 0, 0, 0, 0, 0, 0, 0, 0, 0, 0, 0, 0, 0, 0, 0,\n",
              "       0, 0, 0, 0, 0, 0, 0, 0, 0, 0, 0, 0, 0, 0, 0, 0, 0, 0, 0, 0, 0, 0,\n",
              "       0, 0, 0, 0, 0, 0, 0, 0, 0, 0, 0, 0, 0, 0, 0, 0, 0, 0, 0, 0, 0, 0,\n",
              "       0, 0, 0, 0, 0, 0, 0, 0, 0, 0, 0, 0, 0, 0, 0, 0, 0, 0, 0, 0, 0, 0,\n",
              "       1], dtype=int32)"
            ]
          },
          "metadata": {},
          "execution_count": 29
        }
      ]
    },
    {
      "cell_type": "code",
      "source": [
        "y[0]"
      ],
      "metadata": {
        "colab": {
          "base_uri": "https://localhost:8080/"
        },
        "id": "0naN2yZ_vVuP",
        "outputId": "afc49657-eae8-4dc7-d46f-95da1342c4a1"
      },
      "execution_count": 30,
      "outputs": [
        {
          "output_type": "execute_result",
          "data": {
            "text/plain": [
              "48"
            ]
          },
          "metadata": {},
          "execution_count": 30
        }
      ]
    },
    {
      "cell_type": "code",
      "source": [
        "num_classes = len(tokenizer.word_index) + 1\n",
        "num_classes"
      ],
      "metadata": {
        "colab": {
          "base_uri": "https://localhost:8080/"
        },
        "id": "5nO7Typ_vXA3",
        "outputId": "a9b9a6f9-1ab1-4d7f-d9a9-c5f91ad64c84"
      },
      "execution_count": 31,
      "outputs": [
        {
          "output_type": "execute_result",
          "data": {
            "text/plain": [
              "460"
            ]
          },
          "metadata": {},
          "execution_count": 31
        }
      ]
    },
    {
      "cell_type": "code",
      "source": [
        "y = np.array(tf.keras.utils.to_categorical(y, num_classes=num_classes))"
      ],
      "metadata": {
        "id": "y4cHtuYpvjtA"
      },
      "execution_count": 32,
      "outputs": []
    },
    {
      "cell_type": "code",
      "source": [
        "y[0]"
      ],
      "metadata": {
        "colab": {
          "base_uri": "https://localhost:8080/"
        },
        "id": "UAoNC9RqyyoM",
        "outputId": "a43b9c10-cd11-4e00-e144-c1eb726f04a3"
      },
      "execution_count": 33,
      "outputs": [
        {
          "output_type": "execute_result",
          "data": {
            "text/plain": [
              "array([0., 0., 0., 0., 0., 0., 0., 0., 0., 0., 0., 0., 0., 0., 0., 0., 0.,\n",
              "       0., 0., 0., 0., 0., 0., 0., 0., 0., 0., 0., 0., 0., 0., 0., 0., 0.,\n",
              "       0., 0., 0., 0., 0., 0., 0., 0., 0., 0., 0., 0., 0., 0., 1., 0., 0.,\n",
              "       0., 0., 0., 0., 0., 0., 0., 0., 0., 0., 0., 0., 0., 0., 0., 0., 0.,\n",
              "       0., 0., 0., 0., 0., 0., 0., 0., 0., 0., 0., 0., 0., 0., 0., 0., 0.,\n",
              "       0., 0., 0., 0., 0., 0., 0., 0., 0., 0., 0., 0., 0., 0., 0., 0., 0.,\n",
              "       0., 0., 0., 0., 0., 0., 0., 0., 0., 0., 0., 0., 0., 0., 0., 0., 0.,\n",
              "       0., 0., 0., 0., 0., 0., 0., 0., 0., 0., 0., 0., 0., 0., 0., 0., 0.,\n",
              "       0., 0., 0., 0., 0., 0., 0., 0., 0., 0., 0., 0., 0., 0., 0., 0., 0.,\n",
              "       0., 0., 0., 0., 0., 0., 0., 0., 0., 0., 0., 0., 0., 0., 0., 0., 0.,\n",
              "       0., 0., 0., 0., 0., 0., 0., 0., 0., 0., 0., 0., 0., 0., 0., 0., 0.,\n",
              "       0., 0., 0., 0., 0., 0., 0., 0., 0., 0., 0., 0., 0., 0., 0., 0., 0.,\n",
              "       0., 0., 0., 0., 0., 0., 0., 0., 0., 0., 0., 0., 0., 0., 0., 0., 0.,\n",
              "       0., 0., 0., 0., 0., 0., 0., 0., 0., 0., 0., 0., 0., 0., 0., 0., 0.,\n",
              "       0., 0., 0., 0., 0., 0., 0., 0., 0., 0., 0., 0., 0., 0., 0., 0., 0.,\n",
              "       0., 0., 0., 0., 0., 0., 0., 0., 0., 0., 0., 0., 0., 0., 0., 0., 0.,\n",
              "       0., 0., 0., 0., 0., 0., 0., 0., 0., 0., 0., 0., 0., 0., 0., 0., 0.,\n",
              "       0., 0., 0., 0., 0., 0., 0., 0., 0., 0., 0., 0., 0., 0., 0., 0., 0.,\n",
              "       0., 0., 0., 0., 0., 0., 0., 0., 0., 0., 0., 0., 0., 0., 0., 0., 0.,\n",
              "       0., 0., 0., 0., 0., 0., 0., 0., 0., 0., 0., 0., 0., 0., 0., 0., 0.,\n",
              "       0., 0., 0., 0., 0., 0., 0., 0., 0., 0., 0., 0., 0., 0., 0., 0., 0.,\n",
              "       0., 0., 0., 0., 0., 0., 0., 0., 0., 0., 0., 0., 0., 0., 0., 0., 0.,\n",
              "       0., 0., 0., 0., 0., 0., 0., 0., 0., 0., 0., 0., 0., 0., 0., 0., 0.,\n",
              "       0., 0., 0., 0., 0., 0., 0., 0., 0., 0., 0., 0., 0., 0., 0., 0., 0.,\n",
              "       0., 0., 0., 0., 0., 0., 0., 0., 0., 0., 0., 0., 0., 0., 0., 0., 0.,\n",
              "       0., 0., 0., 0., 0., 0., 0., 0., 0., 0., 0., 0., 0., 0., 0., 0., 0.,\n",
              "       0., 0., 0., 0., 0., 0., 0., 0., 0., 0., 0., 0., 0., 0., 0., 0., 0.,\n",
              "       0.])"
            ]
          },
          "metadata": {},
          "execution_count": 33
        }
      ]
    },
    {
      "cell_type": "code",
      "source": [
        "model = tf.keras.models.Sequential()\n",
        "model.add(tf.keras.layers.Embedding(num_classes, 80))\n",
        "model.add(tf.keras.layers.LSTM(100))\n",
        "model.add(tf.keras.layers.Dense(num_classes, activation='softmax'))"
      ],
      "metadata": {
        "id": "X-_gYc9My1UE"
      },
      "execution_count": 48,
      "outputs": []
    },
    {
      "cell_type": "code",
      "source": [
        "model.summary()"
      ],
      "metadata": {
        "colab": {
          "base_uri": "https://localhost:8080/",
          "height": 225
        },
        "id": "CFAwqThYzaM8",
        "outputId": "b79cbc37-1b86-4ca4-b12e-c0683ddf79ea"
      },
      "execution_count": 49,
      "outputs": [
        {
          "output_type": "display_data",
          "data": {
            "text/plain": [
              "\u001b[1mModel: \"sequential_4\"\u001b[0m\n"
            ],
            "text/html": [
              "<pre style=\"white-space:pre;overflow-x:auto;line-height:normal;font-family:Menlo,'DejaVu Sans Mono',consolas,'Courier New',monospace\"><span style=\"font-weight: bold\">Model: \"sequential_4\"</span>\n",
              "</pre>\n"
            ]
          },
          "metadata": {}
        },
        {
          "output_type": "display_data",
          "data": {
            "text/plain": [
              "┏━━━━━━━━━━━━━━━━━━━━━━━━━━━━━━━━━━━━━━┳━━━━━━━━━━━━━━━━━━━━━━━━━━━━━┳━━━━━━━━━━━━━━━━━┓\n",
              "┃\u001b[1m \u001b[0m\u001b[1mLayer (type)                        \u001b[0m\u001b[1m \u001b[0m┃\u001b[1m \u001b[0m\u001b[1mOutput Shape               \u001b[0m\u001b[1m \u001b[0m┃\u001b[1m \u001b[0m\u001b[1m        Param #\u001b[0m\u001b[1m \u001b[0m┃\n",
              "┡━━━━━━━━━━━━━━━━━━━━━━━━━━━━━━━━━━━━━━╇━━━━━━━━━━━━━━━━━━━━━━━━━━━━━╇━━━━━━━━━━━━━━━━━┩\n",
              "│ embedding_3 (\u001b[38;5;33mEmbedding\u001b[0m)              │ ?                           │     \u001b[38;5;34m0\u001b[0m (unbuilt) │\n",
              "├──────────────────────────────────────┼─────────────────────────────┼─────────────────┤\n",
              "│ lstm_3 (\u001b[38;5;33mLSTM\u001b[0m)                        │ ?                           │     \u001b[38;5;34m0\u001b[0m (unbuilt) │\n",
              "├──────────────────────────────────────┼─────────────────────────────┼─────────────────┤\n",
              "│ dense_3 (\u001b[38;5;33mDense\u001b[0m)                      │ ?                           │     \u001b[38;5;34m0\u001b[0m (unbuilt) │\n",
              "└──────────────────────────────────────┴─────────────────────────────┴─────────────────┘\n"
            ],
            "text/html": [
              "<pre style=\"white-space:pre;overflow-x:auto;line-height:normal;font-family:Menlo,'DejaVu Sans Mono',consolas,'Courier New',monospace\">┏━━━━━━━━━━━━━━━━━━━━━━━━━━━━━━━━━━━━━━┳━━━━━━━━━━━━━━━━━━━━━━━━━━━━━┳━━━━━━━━━━━━━━━━━┓\n",
              "┃<span style=\"font-weight: bold\"> Layer (type)                         </span>┃<span style=\"font-weight: bold\"> Output Shape                </span>┃<span style=\"font-weight: bold\">         Param # </span>┃\n",
              "┡━━━━━━━━━━━━━━━━━━━━━━━━━━━━━━━━━━━━━━╇━━━━━━━━━━━━━━━━━━━━━━━━━━━━━╇━━━━━━━━━━━━━━━━━┩\n",
              "│ embedding_3 (<span style=\"color: #0087ff; text-decoration-color: #0087ff\">Embedding</span>)              │ ?                           │     <span style=\"color: #00af00; text-decoration-color: #00af00\">0</span> (unbuilt) │\n",
              "├──────────────────────────────────────┼─────────────────────────────┼─────────────────┤\n",
              "│ lstm_3 (<span style=\"color: #0087ff; text-decoration-color: #0087ff\">LSTM</span>)                        │ ?                           │     <span style=\"color: #00af00; text-decoration-color: #00af00\">0</span> (unbuilt) │\n",
              "├──────────────────────────────────────┼─────────────────────────────┼─────────────────┤\n",
              "│ dense_3 (<span style=\"color: #0087ff; text-decoration-color: #0087ff\">Dense</span>)                      │ ?                           │     <span style=\"color: #00af00; text-decoration-color: #00af00\">0</span> (unbuilt) │\n",
              "└──────────────────────────────────────┴─────────────────────────────┴─────────────────┘\n",
              "</pre>\n"
            ]
          },
          "metadata": {}
        },
        {
          "output_type": "display_data",
          "data": {
            "text/plain": [
              "\u001b[1m Total params: \u001b[0m\u001b[38;5;34m0\u001b[0m (0.00 B)\n"
            ],
            "text/html": [
              "<pre style=\"white-space:pre;overflow-x:auto;line-height:normal;font-family:Menlo,'DejaVu Sans Mono',consolas,'Courier New',monospace\"><span style=\"font-weight: bold\"> Total params: </span><span style=\"color: #00af00; text-decoration-color: #00af00\">0</span> (0.00 B)\n",
              "</pre>\n"
            ]
          },
          "metadata": {}
        },
        {
          "output_type": "display_data",
          "data": {
            "text/plain": [
              "\u001b[1m Trainable params: \u001b[0m\u001b[38;5;34m0\u001b[0m (0.00 B)\n"
            ],
            "text/html": [
              "<pre style=\"white-space:pre;overflow-x:auto;line-height:normal;font-family:Menlo,'DejaVu Sans Mono',consolas,'Courier New',monospace\"><span style=\"font-weight: bold\"> Trainable params: </span><span style=\"color: #00af00; text-decoration-color: #00af00\">0</span> (0.00 B)\n",
              "</pre>\n"
            ]
          },
          "metadata": {}
        },
        {
          "output_type": "display_data",
          "data": {
            "text/plain": [
              "\u001b[1m Non-trainable params: \u001b[0m\u001b[38;5;34m0\u001b[0m (0.00 B)\n"
            ],
            "text/html": [
              "<pre style=\"white-space:pre;overflow-x:auto;line-height:normal;font-family:Menlo,'DejaVu Sans Mono',consolas,'Courier New',monospace\"><span style=\"font-weight: bold\"> Non-trainable params: </span><span style=\"color: #00af00; text-decoration-color: #00af00\">0</span> (0.00 B)\n",
              "</pre>\n"
            ]
          },
          "metadata": {}
        }
      ]
    },
    {
      "cell_type": "code",
      "source": [
        "model.compile(loss='categorical_crossentropy', optimizer='adam', metrics=['accuracy'])"
      ],
      "metadata": {
        "id": "whTowh_wzpEb"
      },
      "execution_count": 50,
      "outputs": []
    },
    {
      "cell_type": "code",
      "source": [
        "history = model.fit(X, y, epochs=100)"
      ],
      "metadata": {
        "colab": {
          "base_uri": "https://localhost:8080/"
        },
        "id": "xVBpC_DZ0a0z",
        "outputId": "12464bfa-3181-4c4e-b0af-ccf1e6eabe23"
      },
      "execution_count": 51,
      "outputs": [
        {
          "output_type": "stream",
          "name": "stdout",
          "text": [
            "Epoch 1/100\n",
            "\u001b[1m42/42\u001b[0m \u001b[32m━━━━━━━━━━━━━━━━━━━━\u001b[0m\u001b[37m\u001b[0m \u001b[1m2s\u001b[0m 9ms/step - accuracy: 0.0523 - loss: 6.0309\n",
            "Epoch 2/100\n",
            "\u001b[1m42/42\u001b[0m \u001b[32m━━━━━━━━━━━━━━━━━━━━\u001b[0m\u001b[37m\u001b[0m \u001b[1m0s\u001b[0m 6ms/step - accuracy: 0.0705 - loss: 5.3320\n",
            "Epoch 3/100\n",
            "\u001b[1m42/42\u001b[0m \u001b[32m━━━━━━━━━━━━━━━━━━━━\u001b[0m\u001b[37m\u001b[0m \u001b[1m0s\u001b[0m 6ms/step - accuracy: 0.0884 - loss: 5.2367\n",
            "Epoch 4/100\n",
            "\u001b[1m42/42\u001b[0m \u001b[32m━━━━━━━━━━━━━━━━━━━━\u001b[0m\u001b[37m\u001b[0m \u001b[1m0s\u001b[0m 7ms/step - accuracy: 0.0729 - loss: 5.2280\n",
            "Epoch 5/100\n",
            "\u001b[1m42/42\u001b[0m \u001b[32m━━━━━━━━━━━━━━━━━━━━\u001b[0m\u001b[37m\u001b[0m \u001b[1m0s\u001b[0m 7ms/step - accuracy: 0.0952 - loss: 5.1259\n",
            "Epoch 6/100\n",
            "\u001b[1m42/42\u001b[0m \u001b[32m━━━━━━━━━━━━━━━━━━━━\u001b[0m\u001b[37m\u001b[0m \u001b[1m0s\u001b[0m 6ms/step - accuracy: 0.1083 - loss: 4.9843\n",
            "Epoch 7/100\n",
            "\u001b[1m42/42\u001b[0m \u001b[32m━━━━━━━━━━━━━━━━━━━━\u001b[0m\u001b[37m\u001b[0m \u001b[1m0s\u001b[0m 6ms/step - accuracy: 0.1492 - loss: 4.7903\n",
            "Epoch 8/100\n",
            "\u001b[1m42/42\u001b[0m \u001b[32m━━━━━━━━━━━━━━━━━━━━\u001b[0m\u001b[37m\u001b[0m \u001b[1m0s\u001b[0m 7ms/step - accuracy: 0.1453 - loss: 4.6356\n",
            "Epoch 9/100\n",
            "\u001b[1m42/42\u001b[0m \u001b[32m━━━━━━━━━━━━━━━━━━━━\u001b[0m\u001b[37m\u001b[0m \u001b[1m0s\u001b[0m 6ms/step - accuracy: 0.1834 - loss: 4.4826\n",
            "Epoch 10/100\n",
            "\u001b[1m42/42\u001b[0m \u001b[32m━━━━━━━━━━━━━━━━━━━━\u001b[0m\u001b[37m\u001b[0m \u001b[1m0s\u001b[0m 6ms/step - accuracy: 0.2046 - loss: 4.3026\n",
            "Epoch 11/100\n",
            "\u001b[1m42/42\u001b[0m \u001b[32m━━━━━━━━━━━━━━━━━━━━\u001b[0m\u001b[37m\u001b[0m \u001b[1m0s\u001b[0m 7ms/step - accuracy: 0.2381 - loss: 4.1286\n",
            "Epoch 12/100\n",
            "\u001b[1m42/42\u001b[0m \u001b[32m━━━━━━━━━━━━━━━━━━━━\u001b[0m\u001b[37m\u001b[0m \u001b[1m0s\u001b[0m 6ms/step - accuracy: 0.2060 - loss: 4.0758\n",
            "Epoch 13/100\n",
            "\u001b[1m42/42\u001b[0m \u001b[32m━━━━━━━━━━━━━━━━━━━━\u001b[0m\u001b[37m\u001b[0m \u001b[1m0s\u001b[0m 6ms/step - accuracy: 0.2294 - loss: 3.8826\n",
            "Epoch 14/100\n",
            "\u001b[1m42/42\u001b[0m \u001b[32m━━━━━━━━━━━━━━━━━━━━\u001b[0m\u001b[37m\u001b[0m \u001b[1m0s\u001b[0m 6ms/step - accuracy: 0.2552 - loss: 3.7681\n",
            "Epoch 15/100\n",
            "\u001b[1m42/42\u001b[0m \u001b[32m━━━━━━━━━━━━━━━━━━━━\u001b[0m\u001b[37m\u001b[0m \u001b[1m0s\u001b[0m 6ms/step - accuracy: 0.2688 - loss: 3.6212\n",
            "Epoch 16/100\n",
            "\u001b[1m42/42\u001b[0m \u001b[32m━━━━━━━━━━━━━━━━━━━━\u001b[0m\u001b[37m\u001b[0m \u001b[1m0s\u001b[0m 6ms/step - accuracy: 0.2935 - loss: 3.4728\n",
            "Epoch 17/100\n",
            "\u001b[1m42/42\u001b[0m \u001b[32m━━━━━━━━━━━━━━━━━━━━\u001b[0m\u001b[37m\u001b[0m \u001b[1m0s\u001b[0m 6ms/step - accuracy: 0.2922 - loss: 3.4472\n",
            "Epoch 18/100\n",
            "\u001b[1m42/42\u001b[0m \u001b[32m━━━━━━━━━━━━━━━━━━━━\u001b[0m\u001b[37m\u001b[0m \u001b[1m0s\u001b[0m 7ms/step - accuracy: 0.3210 - loss: 3.2378\n",
            "Epoch 19/100\n",
            "\u001b[1m42/42\u001b[0m \u001b[32m━━━━━━━━━━━━━━━━━━━━\u001b[0m\u001b[37m\u001b[0m \u001b[1m0s\u001b[0m 7ms/step - accuracy: 0.3528 - loss: 3.0737\n",
            "Epoch 20/100\n",
            "\u001b[1m42/42\u001b[0m \u001b[32m━━━━━━━━━━━━━━━━━━━━\u001b[0m\u001b[37m\u001b[0m \u001b[1m1s\u001b[0m 7ms/step - accuracy: 0.3554 - loss: 3.0307\n",
            "Epoch 21/100\n",
            "\u001b[1m42/42\u001b[0m \u001b[32m━━━━━━━━━━━━━━━━━━━━\u001b[0m\u001b[37m\u001b[0m \u001b[1m0s\u001b[0m 6ms/step - accuracy: 0.3727 - loss: 2.9043\n",
            "Epoch 22/100\n",
            "\u001b[1m42/42\u001b[0m \u001b[32m━━━━━━━━━━━━━━━━━━━━\u001b[0m\u001b[37m\u001b[0m \u001b[1m0s\u001b[0m 6ms/step - accuracy: 0.3694 - loss: 2.8718\n",
            "Epoch 23/100\n",
            "\u001b[1m42/42\u001b[0m \u001b[32m━━━━━━━━━━━━━━━━━━━━\u001b[0m\u001b[37m\u001b[0m \u001b[1m0s\u001b[0m 7ms/step - accuracy: 0.4026 - loss: 2.7137\n",
            "Epoch 24/100\n",
            "\u001b[1m42/42\u001b[0m \u001b[32m━━━━━━━━━━━━━━━━━━━━\u001b[0m\u001b[37m\u001b[0m \u001b[1m1s\u001b[0m 6ms/step - accuracy: 0.4188 - loss: 2.5795\n",
            "Epoch 25/100\n",
            "\u001b[1m42/42\u001b[0m \u001b[32m━━━━━━━━━━━━━━━━━━━━\u001b[0m\u001b[37m\u001b[0m \u001b[1m0s\u001b[0m 6ms/step - accuracy: 0.4364 - loss: 2.5360\n",
            "Epoch 26/100\n",
            "\u001b[1m42/42\u001b[0m \u001b[32m━━━━━━━━━━━━━━━━━━━━\u001b[0m\u001b[37m\u001b[0m \u001b[1m0s\u001b[0m 7ms/step - accuracy: 0.4541 - loss: 2.4614\n",
            "Epoch 27/100\n",
            "\u001b[1m42/42\u001b[0m \u001b[32m━━━━━━━━━━━━━━━━━━━━\u001b[0m\u001b[37m\u001b[0m \u001b[1m0s\u001b[0m 7ms/step - accuracy: 0.4869 - loss: 2.3090\n",
            "Epoch 28/100\n",
            "\u001b[1m42/42\u001b[0m \u001b[32m━━━━━━━━━━━━━━━━━━━━\u001b[0m\u001b[37m\u001b[0m \u001b[1m1s\u001b[0m 10ms/step - accuracy: 0.5353 - loss: 2.1527\n",
            "Epoch 29/100\n",
            "\u001b[1m42/42\u001b[0m \u001b[32m━━━━━━━━━━━━━━━━━━━━\u001b[0m\u001b[37m\u001b[0m \u001b[1m1s\u001b[0m 9ms/step - accuracy: 0.5473 - loss: 2.1619\n",
            "Epoch 30/100\n",
            "\u001b[1m42/42\u001b[0m \u001b[32m━━━━━━━━━━━━━━━━━━━━\u001b[0m\u001b[37m\u001b[0m \u001b[1m1s\u001b[0m 10ms/step - accuracy: 0.5843 - loss: 2.0580\n",
            "Epoch 31/100\n",
            "\u001b[1m42/42\u001b[0m \u001b[32m━━━━━━━━━━━━━━━━━━━━\u001b[0m\u001b[37m\u001b[0m \u001b[1m0s\u001b[0m 7ms/step - accuracy: 0.5900 - loss: 1.9499\n",
            "Epoch 32/100\n",
            "\u001b[1m42/42\u001b[0m \u001b[32m━━━━━━━━━━━━━━━━━━━━\u001b[0m\u001b[37m\u001b[0m \u001b[1m0s\u001b[0m 7ms/step - accuracy: 0.6062 - loss: 1.8870\n",
            "Epoch 33/100\n",
            "\u001b[1m42/42\u001b[0m \u001b[32m━━━━━━━━━━━━━━━━━━━━\u001b[0m\u001b[37m\u001b[0m \u001b[1m0s\u001b[0m 6ms/step - accuracy: 0.6296 - loss: 1.8398\n",
            "Epoch 34/100\n",
            "\u001b[1m42/42\u001b[0m \u001b[32m━━━━━━━━━━━━━━━━━━━━\u001b[0m\u001b[37m\u001b[0m \u001b[1m0s\u001b[0m 6ms/step - accuracy: 0.6808 - loss: 1.7161\n",
            "Epoch 35/100\n",
            "\u001b[1m42/42\u001b[0m \u001b[32m━━━━━━━━━━━━━━━━━━━━\u001b[0m\u001b[37m\u001b[0m \u001b[1m0s\u001b[0m 7ms/step - accuracy: 0.7061 - loss: 1.6494\n",
            "Epoch 36/100\n",
            "\u001b[1m42/42\u001b[0m \u001b[32m━━━━━━━━━━━━━━━━━━━━\u001b[0m\u001b[37m\u001b[0m \u001b[1m0s\u001b[0m 6ms/step - accuracy: 0.7217 - loss: 1.5569\n",
            "Epoch 37/100\n",
            "\u001b[1m42/42\u001b[0m \u001b[32m━━━━━━━━━━━━━━━━━━━━\u001b[0m\u001b[37m\u001b[0m \u001b[1m0s\u001b[0m 6ms/step - accuracy: 0.7625 - loss: 1.4700\n",
            "Epoch 38/100\n",
            "\u001b[1m42/42\u001b[0m \u001b[32m━━━━━━━━━━━━━━━━━━━━\u001b[0m\u001b[37m\u001b[0m \u001b[1m0s\u001b[0m 6ms/step - accuracy: 0.7628 - loss: 1.4353\n",
            "Epoch 39/100\n",
            "\u001b[1m42/42\u001b[0m \u001b[32m━━━━━━━━━━━━━━━━━━━━\u001b[0m\u001b[37m\u001b[0m \u001b[1m0s\u001b[0m 7ms/step - accuracy: 0.7710 - loss: 1.3773\n",
            "Epoch 40/100\n",
            "\u001b[1m42/42\u001b[0m \u001b[32m━━━━━━━━━━━━━━━━━━━━\u001b[0m\u001b[37m\u001b[0m \u001b[1m0s\u001b[0m 6ms/step - accuracy: 0.7962 - loss: 1.3118\n",
            "Epoch 41/100\n",
            "\u001b[1m42/42\u001b[0m \u001b[32m━━━━━━━━━━━━━━━━━━━━\u001b[0m\u001b[37m\u001b[0m \u001b[1m0s\u001b[0m 6ms/step - accuracy: 0.8323 - loss: 1.2066\n",
            "Epoch 42/100\n",
            "\u001b[1m42/42\u001b[0m \u001b[32m━━━━━━━━━━━━━━━━━━━━\u001b[0m\u001b[37m\u001b[0m \u001b[1m0s\u001b[0m 7ms/step - accuracy: 0.8376 - loss: 1.1552\n",
            "Epoch 43/100\n",
            "\u001b[1m42/42\u001b[0m \u001b[32m━━━━━━━━━━━━━━━━━━━━\u001b[0m\u001b[37m\u001b[0m \u001b[1m1s\u001b[0m 6ms/step - accuracy: 0.8447 - loss: 1.0992\n",
            "Epoch 44/100\n",
            "\u001b[1m42/42\u001b[0m \u001b[32m━━━━━━━━━━━━━━━━━━━━\u001b[0m\u001b[37m\u001b[0m \u001b[1m0s\u001b[0m 6ms/step - accuracy: 0.8551 - loss: 1.0893\n",
            "Epoch 45/100\n",
            "\u001b[1m42/42\u001b[0m \u001b[32m━━━━━━━━━━━━━━━━━━━━\u001b[0m\u001b[37m\u001b[0m \u001b[1m0s\u001b[0m 6ms/step - accuracy: 0.8687 - loss: 0.9882\n",
            "Epoch 46/100\n",
            "\u001b[1m42/42\u001b[0m \u001b[32m━━━━━━━━━━━━━━━━━━━━\u001b[0m\u001b[37m\u001b[0m \u001b[1m0s\u001b[0m 6ms/step - accuracy: 0.8774 - loss: 0.9563\n",
            "Epoch 47/100\n",
            "\u001b[1m42/42\u001b[0m \u001b[32m━━━━━━━━━━━━━━━━━━━━\u001b[0m\u001b[37m\u001b[0m \u001b[1m0s\u001b[0m 6ms/step - accuracy: 0.8934 - loss: 0.9116\n",
            "Epoch 48/100\n",
            "\u001b[1m42/42\u001b[0m \u001b[32m━━━━━━━━━━━━━━━━━━━━\u001b[0m\u001b[37m\u001b[0m \u001b[1m0s\u001b[0m 7ms/step - accuracy: 0.8965 - loss: 0.8678\n",
            "Epoch 49/100\n",
            "\u001b[1m42/42\u001b[0m \u001b[32m━━━━━━━━━━━━━━━━━━━━\u001b[0m\u001b[37m\u001b[0m \u001b[1m1s\u001b[0m 6ms/step - accuracy: 0.9060 - loss: 0.7982\n",
            "Epoch 50/100\n",
            "\u001b[1m42/42\u001b[0m \u001b[32m━━━━━━━━━━━━━━━━━━━━\u001b[0m\u001b[37m\u001b[0m \u001b[1m0s\u001b[0m 6ms/step - accuracy: 0.9194 - loss: 0.7708\n",
            "Epoch 51/100\n",
            "\u001b[1m42/42\u001b[0m \u001b[32m━━━━━━━━━━━━━━━━━━━━\u001b[0m\u001b[37m\u001b[0m \u001b[1m0s\u001b[0m 7ms/step - accuracy: 0.9227 - loss: 0.7307\n",
            "Epoch 52/100\n",
            "\u001b[1m42/42\u001b[0m \u001b[32m━━━━━━━━━━━━━━━━━━━━\u001b[0m\u001b[37m\u001b[0m \u001b[1m0s\u001b[0m 6ms/step - accuracy: 0.9330 - loss: 0.6879\n",
            "Epoch 53/100\n",
            "\u001b[1m42/42\u001b[0m \u001b[32m━━━━━━━━━━━━━━━━━━━━\u001b[0m\u001b[37m\u001b[0m \u001b[1m0s\u001b[0m 7ms/step - accuracy: 0.9373 - loss: 0.6682\n",
            "Epoch 54/100\n",
            "\u001b[1m42/42\u001b[0m \u001b[32m━━━━━━━━━━━━━━━━━━━━\u001b[0m\u001b[37m\u001b[0m \u001b[1m0s\u001b[0m 6ms/step - accuracy: 0.9321 - loss: 0.6430\n",
            "Epoch 55/100\n",
            "\u001b[1m42/42\u001b[0m \u001b[32m━━━━━━━━━━━━━━━━━━━━\u001b[0m\u001b[37m\u001b[0m \u001b[1m0s\u001b[0m 6ms/step - accuracy: 0.9340 - loss: 0.6204\n",
            "Epoch 56/100\n",
            "\u001b[1m42/42\u001b[0m \u001b[32m━━━━━━━━━━━━━━━━━━━━\u001b[0m\u001b[37m\u001b[0m \u001b[1m0s\u001b[0m 6ms/step - accuracy: 0.9458 - loss: 0.5942\n",
            "Epoch 57/100\n",
            "\u001b[1m42/42\u001b[0m \u001b[32m━━━━━━━━━━━━━━━━━━━━\u001b[0m\u001b[37m\u001b[0m \u001b[1m0s\u001b[0m 7ms/step - accuracy: 0.9400 - loss: 0.5856\n",
            "Epoch 58/100\n",
            "\u001b[1m42/42\u001b[0m \u001b[32m━━━━━━━━━━━━━━━━━━━━\u001b[0m\u001b[37m\u001b[0m \u001b[1m0s\u001b[0m 6ms/step - accuracy: 0.9447 - loss: 0.5475\n",
            "Epoch 59/100\n",
            "\u001b[1m42/42\u001b[0m \u001b[32m━━━━━━━━━━━━━━━━━━━━\u001b[0m\u001b[37m\u001b[0m \u001b[1m0s\u001b[0m 6ms/step - accuracy: 0.9610 - loss: 0.4937\n",
            "Epoch 60/100\n",
            "\u001b[1m42/42\u001b[0m \u001b[32m━━━━━━━━━━━━━━━━━━━━\u001b[0m\u001b[37m\u001b[0m \u001b[1m0s\u001b[0m 7ms/step - accuracy: 0.9606 - loss: 0.4727\n",
            "Epoch 61/100\n",
            "\u001b[1m42/42\u001b[0m \u001b[32m━━━━━━━━━━━━━━━━━━━━\u001b[0m\u001b[37m\u001b[0m \u001b[1m0s\u001b[0m 6ms/step - accuracy: 0.9693 - loss: 0.4661\n",
            "Epoch 62/100\n",
            "\u001b[1m42/42\u001b[0m \u001b[32m━━━━━━━━━━━━━━━━━━━━\u001b[0m\u001b[37m\u001b[0m \u001b[1m0s\u001b[0m 7ms/step - accuracy: 0.9641 - loss: 0.4441\n",
            "Epoch 63/100\n",
            "\u001b[1m42/42\u001b[0m \u001b[32m━━━━━━━━━━━━━━━━━━━━\u001b[0m\u001b[37m\u001b[0m \u001b[1m1s\u001b[0m 9ms/step - accuracy: 0.9607 - loss: 0.4268\n",
            "Epoch 64/100\n",
            "\u001b[1m42/42\u001b[0m \u001b[32m━━━━━━━━━━━━━━━━━━━━\u001b[0m\u001b[37m\u001b[0m \u001b[1m1s\u001b[0m 9ms/step - accuracy: 0.9651 - loss: 0.4060\n",
            "Epoch 65/100\n",
            "\u001b[1m42/42\u001b[0m \u001b[32m━━━━━━━━━━━━━━━━━━━━\u001b[0m\u001b[37m\u001b[0m \u001b[1m0s\u001b[0m 10ms/step - accuracy: 0.9672 - loss: 0.4053\n",
            "Epoch 66/100\n",
            "\u001b[1m42/42\u001b[0m \u001b[32m━━━━━━━━━━━━━━━━━━━━\u001b[0m\u001b[37m\u001b[0m \u001b[1m1s\u001b[0m 7ms/step - accuracy: 0.9659 - loss: 0.3854\n",
            "Epoch 67/100\n",
            "\u001b[1m42/42\u001b[0m \u001b[32m━━━━━━━━━━━━━━━━━━━━\u001b[0m\u001b[37m\u001b[0m \u001b[1m0s\u001b[0m 6ms/step - accuracy: 0.9674 - loss: 0.3485\n",
            "Epoch 68/100\n",
            "\u001b[1m42/42\u001b[0m \u001b[32m━━━━━━━━━━━━━━━━━━━━\u001b[0m\u001b[37m\u001b[0m \u001b[1m0s\u001b[0m 6ms/step - accuracy: 0.9656 - loss: 0.3396\n",
            "Epoch 69/100\n",
            "\u001b[1m42/42\u001b[0m \u001b[32m━━━━━━━━━━━━━━━━━━━━\u001b[0m\u001b[37m\u001b[0m \u001b[1m0s\u001b[0m 6ms/step - accuracy: 0.9653 - loss: 0.3495\n",
            "Epoch 70/100\n",
            "\u001b[1m42/42\u001b[0m \u001b[32m━━━━━━━━━━━━━━━━━━━━\u001b[0m\u001b[37m\u001b[0m \u001b[1m0s\u001b[0m 7ms/step - accuracy: 0.9728 - loss: 0.3015\n",
            "Epoch 71/100\n",
            "\u001b[1m42/42\u001b[0m \u001b[32m━━━━━━━━━━━━━━━━━━━━\u001b[0m\u001b[37m\u001b[0m \u001b[1m0s\u001b[0m 6ms/step - accuracy: 0.9697 - loss: 0.3150\n",
            "Epoch 72/100\n",
            "\u001b[1m42/42\u001b[0m \u001b[32m━━━━━━━━━━━━━━━━━━━━\u001b[0m\u001b[37m\u001b[0m \u001b[1m0s\u001b[0m 6ms/step - accuracy: 0.9717 - loss: 0.3000\n",
            "Epoch 73/100\n",
            "\u001b[1m42/42\u001b[0m \u001b[32m━━━━━━━━━━━━━━━━━━━━\u001b[0m\u001b[37m\u001b[0m \u001b[1m0s\u001b[0m 7ms/step - accuracy: 0.9757 - loss: 0.2727\n",
            "Epoch 74/100\n",
            "\u001b[1m42/42\u001b[0m \u001b[32m━━━━━━━━━━━━━━━━━━━━\u001b[0m\u001b[37m\u001b[0m \u001b[1m1s\u001b[0m 6ms/step - accuracy: 0.9755 - loss: 0.2643\n",
            "Epoch 75/100\n",
            "\u001b[1m42/42\u001b[0m \u001b[32m━━━━━━━━━━━━━━━━━━━━\u001b[0m\u001b[37m\u001b[0m \u001b[1m0s\u001b[0m 6ms/step - accuracy: 0.9782 - loss: 0.2684\n",
            "Epoch 76/100\n",
            "\u001b[1m42/42\u001b[0m \u001b[32m━━━━━━━━━━━━━━━━━━━━\u001b[0m\u001b[37m\u001b[0m \u001b[1m0s\u001b[0m 6ms/step - accuracy: 0.9790 - loss: 0.2483\n",
            "Epoch 77/100\n",
            "\u001b[1m42/42\u001b[0m \u001b[32m━━━━━━━━━━━━━━━━━━━━\u001b[0m\u001b[37m\u001b[0m \u001b[1m0s\u001b[0m 6ms/step - accuracy: 0.9804 - loss: 0.2395\n",
            "Epoch 78/100\n",
            "\u001b[1m42/42\u001b[0m \u001b[32m━━━━━━━━━━━━━━━━━━━━\u001b[0m\u001b[37m\u001b[0m \u001b[1m0s\u001b[0m 6ms/step - accuracy: 0.9826 - loss: 0.2263\n",
            "Epoch 79/100\n",
            "\u001b[1m42/42\u001b[0m \u001b[32m━━━━━━━━━━━━━━━━━━━━\u001b[0m\u001b[37m\u001b[0m \u001b[1m0s\u001b[0m 6ms/step - accuracy: 0.9821 - loss: 0.2217\n",
            "Epoch 80/100\n",
            "\u001b[1m42/42\u001b[0m \u001b[32m━━━━━━━━━━━━━━━━━━━━\u001b[0m\u001b[37m\u001b[0m \u001b[1m0s\u001b[0m 6ms/step - accuracy: 0.9796 - loss: 0.2184\n",
            "Epoch 81/100\n",
            "\u001b[1m42/42\u001b[0m \u001b[32m━━━━━━━━━━━━━━━━━━━━\u001b[0m\u001b[37m\u001b[0m \u001b[1m0s\u001b[0m 6ms/step - accuracy: 0.9814 - loss: 0.2065\n",
            "Epoch 82/100\n",
            "\u001b[1m42/42\u001b[0m \u001b[32m━━━━━━━━━━━━━━━━━━━━\u001b[0m\u001b[37m\u001b[0m \u001b[1m0s\u001b[0m 6ms/step - accuracy: 0.9777 - loss: 0.2092\n",
            "Epoch 83/100\n",
            "\u001b[1m42/42\u001b[0m \u001b[32m━━━━━━━━━━━━━━━━━━━━\u001b[0m\u001b[37m\u001b[0m \u001b[1m0s\u001b[0m 6ms/step - accuracy: 0.9853 - loss: 0.1857\n",
            "Epoch 84/100\n",
            "\u001b[1m42/42\u001b[0m \u001b[32m━━━━━━━━━━━━━━━━━━━━\u001b[0m\u001b[37m\u001b[0m \u001b[1m0s\u001b[0m 6ms/step - accuracy: 0.9866 - loss: 0.1823\n",
            "Epoch 85/100\n",
            "\u001b[1m42/42\u001b[0m \u001b[32m━━━━━━━━━━━━━━━━━━━━\u001b[0m\u001b[37m\u001b[0m \u001b[1m0s\u001b[0m 6ms/step - accuracy: 0.9807 - loss: 0.1848\n",
            "Epoch 86/100\n",
            "\u001b[1m42/42\u001b[0m \u001b[32m━━━━━━━━━━━━━━━━━━━━\u001b[0m\u001b[37m\u001b[0m \u001b[1m0s\u001b[0m 6ms/step - accuracy: 0.9852 - loss: 0.1812\n",
            "Epoch 87/100\n",
            "\u001b[1m42/42\u001b[0m \u001b[32m━━━━━━━━━━━━━━━━━━━━\u001b[0m\u001b[37m\u001b[0m \u001b[1m0s\u001b[0m 6ms/step - accuracy: 0.9831 - loss: 0.1727\n",
            "Epoch 88/100\n",
            "\u001b[1m42/42\u001b[0m \u001b[32m━━━━━━━━━━━━━━━━━━━━\u001b[0m\u001b[37m\u001b[0m \u001b[1m0s\u001b[0m 6ms/step - accuracy: 0.9744 - loss: 0.1713\n",
            "Epoch 89/100\n",
            "\u001b[1m42/42\u001b[0m \u001b[32m━━━━━━━━━━━━━━━━━━━━\u001b[0m\u001b[37m\u001b[0m \u001b[1m0s\u001b[0m 7ms/step - accuracy: 0.9764 - loss: 0.1704\n",
            "Epoch 90/100\n",
            "\u001b[1m42/42\u001b[0m \u001b[32m━━━━━━━━━━━━━━━━━━━━\u001b[0m\u001b[37m\u001b[0m \u001b[1m1s\u001b[0m 6ms/step - accuracy: 0.9759 - loss: 0.1663\n",
            "Epoch 91/100\n",
            "\u001b[1m42/42\u001b[0m \u001b[32m━━━━━━━━━━━━━━━━━━━━\u001b[0m\u001b[37m\u001b[0m \u001b[1m0s\u001b[0m 6ms/step - accuracy: 0.9827 - loss: 0.1517\n",
            "Epoch 92/100\n",
            "\u001b[1m42/42\u001b[0m \u001b[32m━━━━━━━━━━━━━━━━━━━━\u001b[0m\u001b[37m\u001b[0m \u001b[1m0s\u001b[0m 6ms/step - accuracy: 0.9811 - loss: 0.1467\n",
            "Epoch 93/100\n",
            "\u001b[1m42/42\u001b[0m \u001b[32m━━━━━━━━━━━━━━━━━━━━\u001b[0m\u001b[37m\u001b[0m \u001b[1m0s\u001b[0m 6ms/step - accuracy: 0.9780 - loss: 0.1463\n",
            "Epoch 94/100\n",
            "\u001b[1m42/42\u001b[0m \u001b[32m━━━━━━━━━━━━━━━━━━━━\u001b[0m\u001b[37m\u001b[0m \u001b[1m0s\u001b[0m 6ms/step - accuracy: 0.9768 - loss: 0.1494\n",
            "Epoch 95/100\n",
            "\u001b[1m42/42\u001b[0m \u001b[32m━━━━━━━━━━━━━━━━━━━━\u001b[0m\u001b[37m\u001b[0m \u001b[1m0s\u001b[0m 7ms/step - accuracy: 0.9876 - loss: 0.1348\n",
            "Epoch 96/100\n",
            "\u001b[1m42/42\u001b[0m \u001b[32m━━━━━━━━━━━━━━━━━━━━\u001b[0m\u001b[37m\u001b[0m \u001b[1m0s\u001b[0m 6ms/step - accuracy: 0.9806 - loss: 0.1287\n",
            "Epoch 97/100\n",
            "\u001b[1m42/42\u001b[0m \u001b[32m━━━━━━━━━━━━━━━━━━━━\u001b[0m\u001b[37m\u001b[0m \u001b[1m0s\u001b[0m 6ms/step - accuracy: 0.9860 - loss: 0.1220\n",
            "Epoch 98/100\n",
            "\u001b[1m42/42\u001b[0m \u001b[32m━━━━━━━━━━━━━━━━━━━━\u001b[0m\u001b[37m\u001b[0m \u001b[1m0s\u001b[0m 10ms/step - accuracy: 0.9857 - loss: 0.1220\n",
            "Epoch 99/100\n",
            "\u001b[1m42/42\u001b[0m \u001b[32m━━━━━━━━━━━━━━━━━━━━\u001b[0m\u001b[37m\u001b[0m \u001b[1m0s\u001b[0m 9ms/step - accuracy: 0.9867 - loss: 0.1195\n",
            "Epoch 100/100\n",
            "\u001b[1m42/42\u001b[0m \u001b[32m━━━━━━━━━━━━━━━━━━━━\u001b[0m\u001b[37m\u001b[0m \u001b[1m0s\u001b[0m 9ms/step - accuracy: 0.9817 - loss: 0.1199\n"
          ]
        }
      ]
    },
    {
      "cell_type": "code",
      "source": [
        "input_text = \"Evolution IX was produced\""
      ],
      "metadata": {
        "id": "58trkME30kMT"
      },
      "execution_count": 52,
      "outputs": []
    },
    {
      "cell_type": "code",
      "source": [
        "token_list = tokenizer.texts_to_sequences([input_text])[0]\n",
        "token_list"
      ],
      "metadata": {
        "colab": {
          "base_uri": "https://localhost:8080/"
        },
        "id": "R2ARm6Fa1Bla",
        "outputId": "ef880a9a-a7b1-4eb8-f2fd-d98357838956"
      },
      "execution_count": 53,
      "outputs": [
        {
          "output_type": "execute_result",
          "data": {
            "text/plain": [
              "[28, 8, 5, 188]"
            ]
          },
          "metadata": {},
          "execution_count": 53
        }
      ]
    },
    {
      "cell_type": "code",
      "source": [
        "token_list = tf.keras.preprocessing.sequence.pad_sequences([token_list], maxlen=max_length-1, padding='pre')\n",
        "token_list"
      ],
      "metadata": {
        "colab": {
          "base_uri": "https://localhost:8080/"
        },
        "id": "w-LHkaSK1HHj",
        "outputId": "8726b981-792f-4d91-ecd6-03e7cdd9ea4b"
      },
      "execution_count": 54,
      "outputs": [
        {
          "output_type": "execute_result",
          "data": {
            "text/plain": [
              "array([[  0,   0,   0,   0,   0,   0,   0,   0,   0,   0,   0,   0,   0,\n",
              "          0,   0,   0,   0,   0,   0,   0,   0,   0,   0,   0,   0,   0,\n",
              "          0,   0,   0,   0,   0,   0,   0,   0,   0,   0,   0,   0,   0,\n",
              "          0,   0,   0,   0,   0,   0,   0,   0,   0,   0,   0,   0,   0,\n",
              "          0,   0,   0,   0,   0,   0,   0,   0,   0,   0,   0,   0,   0,\n",
              "          0,   0,   0,   0,   0,   0,   0,   0,   0,   0,   0,   0,   0,\n",
              "          0,   0,   0,   0,   0,   0,   0,  28,   8,   5, 188]],\n",
              "      dtype=int32)"
            ]
          },
          "metadata": {},
          "execution_count": 54
        }
      ]
    },
    {
      "cell_type": "code",
      "source": [
        "predicted = np.argmax(model.predict(token_list), axis=-1)\n",
        "predicted"
      ],
      "metadata": {
        "colab": {
          "base_uri": "https://localhost:8080/"
        },
        "id": "Occx4sCr1PMi",
        "outputId": "495b537f-d84a-4e55-cb26-efad795dfead"
      },
      "execution_count": 55,
      "outputs": [
        {
          "output_type": "stream",
          "name": "stdout",
          "text": [
            "\u001b[1m1/1\u001b[0m \u001b[32m━━━━━━━━━━━━━━━━━━━━\u001b[0m\u001b[37m\u001b[0m \u001b[1m0s\u001b[0m 138ms/step\n"
          ]
        },
        {
          "output_type": "execute_result",
          "data": {
            "text/plain": [
              "array([6])"
            ]
          },
          "metadata": {},
          "execution_count": 55
        }
      ]
    },
    {
      "cell_type": "code",
      "source": [
        "for word, index in tokenizer.word_index.items():\n",
        "    if index == predicted:\n",
        "        print(word)"
      ],
      "metadata": {
        "colab": {
          "base_uri": "https://localhost:8080/"
        },
        "id": "hXTxUQ9H1TSh",
        "outputId": "246cc43f-dc3f-4e98-8f46-db642152776f"
      },
      "execution_count": 56,
      "outputs": [
        {
          "output_type": "stream",
          "name": "stdout",
          "text": [
            "a\n"
          ]
        }
      ]
    },
    {
      "cell_type": "code",
      "source": [
        "for i in range(6):\n",
        "    token_list = tokenizer.texts_to_sequences([input_text])[0]\n",
        "    token_list = tf.keras.preprocessing.sequence.pad_sequences([token_list], maxlen=max_length-1, padding='pre')\n",
        "    predicted = np.argmax(model.predict(token_list), axis=-1)\n",
        "    output_word = \"\"\n",
        "    for word, index in tokenizer.word_index.items():\n",
        "        if index == predicted:\n",
        "            output_word = word\n",
        "            break\n",
        "    input_text += \" \" + output_word\n",
        "\n",
        "print(input_text)"
      ],
      "metadata": {
        "colab": {
          "base_uri": "https://localhost:8080/"
        },
        "id": "u6aOTrba1bfR",
        "outputId": "7dd0c563-4d7d-492a-a4d4-04bd453daffa"
      },
      "execution_count": 57,
      "outputs": [
        {
          "output_type": "stream",
          "name": "stdout",
          "text": [
            "\u001b[1m1/1\u001b[0m \u001b[32m━━━━━━━━━━━━━━━━━━━━\u001b[0m\u001b[37m\u001b[0m \u001b[1m0s\u001b[0m 28ms/step\n",
            "\u001b[1m1/1\u001b[0m \u001b[32m━━━━━━━━━━━━━━━━━━━━\u001b[0m\u001b[37m\u001b[0m \u001b[1m0s\u001b[0m 25ms/step\n",
            "\u001b[1m1/1\u001b[0m \u001b[32m━━━━━━━━━━━━━━━━━━━━\u001b[0m\u001b[37m\u001b[0m \u001b[1m0s\u001b[0m 25ms/step\n",
            "\u001b[1m1/1\u001b[0m \u001b[32m━━━━━━━━━━━━━━━━━━━━\u001b[0m\u001b[37m\u001b[0m \u001b[1m0s\u001b[0m 26ms/step\n",
            "\u001b[1m1/1\u001b[0m \u001b[32m━━━━━━━━━━━━━━━━━━━━\u001b[0m\u001b[37m\u001b[0m \u001b[1m0s\u001b[0m 27ms/step\n",
            "\u001b[1m1/1\u001b[0m \u001b[32m━━━━━━━━━━━━━━━━━━━━\u001b[0m\u001b[37m\u001b[0m \u001b[1m0s\u001b[0m 23ms/step\n",
            "Evolution IX was produced a popular choice in the tuning\n"
          ]
        }
      ]
    }
  ]
}